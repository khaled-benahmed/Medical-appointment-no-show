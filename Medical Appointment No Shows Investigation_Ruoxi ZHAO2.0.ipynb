{
 "cells": [
  {
   "cell_type": "markdown",
   "metadata": {},
   "source": [
    "# Project: Medical Appointment No Shows - Data Investigation\n",
    "\n",
    "## Table of Contents\n",
    "<ul>\n",
    "<li><a href=\"#intro\">Introduction</a></li>\n",
    "<li><a href=\"#wrangling\">Data Wrangling</a></li>\n",
    "    <ul>\n",
    "<li><a href=\"#gp\">General Properties</a></li>\n",
    "<li><a href=\"#dc\">Data Cleaning</a></li>\n",
    "        <ul>\n",
    "<li><a href=\"#1\">1 - Spelling Errors</a></li>\n",
    "<li><a href=\"#2\">2 - Date Extracting</a></li>\n",
    "<li><a href=\"#3\">3 - Age_Stage</a></li>\n",
    "<li><a href=\"#4\">4 - Handicap_Level</a></li>\n",
    "        </ul>\n",
    "<li><a href=\"#eda\">Exploratory Data Analysis</a></li>\n",
    "        <ul>\n",
    "<li><a href=\"#Q1\">Q1 - the percentage of no-shown-up patients with scheduled appointment.</a></li>\n",
    "<li><a href=\"#Q2\">Q2 - the percentage of no-shown-up patients with scheduled appointment by gender.</a></li>\n",
    "<li><a href=\"#Q3\">Q3 - the percentage of no-shown-up patients with scheduled appointment by weekday.</a></li>\n",
    "<li><a href=\"#Q4\">Q4 - does the duration between appointment and scheduled days will change patients' minds for their attendance?</a></li>\n",
    "<li><a href=\"#Q5\">Q5 - does the age stage would affect the attendances of medical appointments?</a></li>\n",
    "<li><a href=\"#Q6\">Q6 - does different neighbourhoods will impact patients' attendances for their appoitments?</a></li>\n",
    "<li><a href=\"#Q7\">Q7 - will received sms affect the patients' attendances of their appoitments?</a></li>\n",
    "<li><a href=\"#Q8\">Q8 - is being handicapped a major factor affecting patients' attendances for their appoitments?</a></li>\n",
    "<li><a href=\"#Q9\">Q9: other factors may affect patients' attendances.</a></li>\n",
    "                <ul>\n",
    "<li><a href=\"#sch\">- Scholarship</a></li>\n",
    "<li><a href=\"#hy\">- Hypertension</a></li>\n",
    "<li><a href=\"#d\">- Diabetes</a></li>\n",
    "<li><a href=\"#al\">- Alcoholism</a></li>                  \n",
    "                </ul>\n",
    "            </ul>\n",
    "    </ul>\n",
    "<li><a href=\"#conclusions\">Conclusions</a></li>\n",
    "</ul>"
   ]
  },
  {
   "cell_type": "markdown",
   "metadata": {},
   "source": [
    "<a id='intro'></a>\n",
    "## Introduction\n",
    "\n",
    "In this data analysis project, we are going to investigate a dataset recording from 100k medical appointments in a public hospital in May 2016 in Brazil. \n",
    "> The dataset shows whether or not the patient showed up for their appointments as well as a number of characteristics about the partient, including: \n",
    "> - Scheduled Day\n",
    "> - Appointment Day\n",
    "> - Age \n",
    "> - Gender\n",
    "> - Neighborhood\n",
    "> - SMS Received or Not\n",
    ">\n",
    "This dataset is provided by the link below and the original source is on Kaggle: \n",
    "https://d17h27t6h515a5.cloudfront.net/topher/2017/October/59dd2e9a_noshowappointments-kagglev2-may-2016/noshowappointments-kagglev2-may-2016.csv\n",
    "\n",
    "#### The aim is to try to understand :\n",
    "- What factors are the most important influenting the patients not attending their medical appointments?"
   ]
  },
  {
   "cell_type": "code",
   "execution_count": 1,
   "metadata": {},
   "outputs": [],
   "source": [
    "# import numpy, pandas, datetime and seaborn\n",
    "import numpy as np\n",
    "import pandas as pd\n",
    "import matplotlib.pyplot as plt\n",
    "import seaborn as sns\n",
    "import datetime as dt\n",
    "from datetime import timedelta\n",
    "%matplotlib inline"
   ]
  },
  {
   "cell_type": "markdown",
   "metadata": {},
   "source": [
    "<a id='wrangling'></a>\n",
    "## Data Wrangling\n",
    "<a id='gp'></a>\n",
    "### General Properties"
   ]
  },
  {
   "cell_type": "code",
   "execution_count": 2,
   "metadata": {},
   "outputs": [
    {
     "data": {
      "text/html": [
       "<div>\n",
       "<style scoped>\n",
       "    .dataframe tbody tr th:only-of-type {\n",
       "        vertical-align: middle;\n",
       "    }\n",
       "\n",
       "    .dataframe tbody tr th {\n",
       "        vertical-align: top;\n",
       "    }\n",
       "\n",
       "    .dataframe thead th {\n",
       "        text-align: right;\n",
       "    }\n",
       "</style>\n",
       "<table border=\"1\" class=\"dataframe\">\n",
       "  <thead>\n",
       "    <tr style=\"text-align: right;\">\n",
       "      <th></th>\n",
       "      <th>PatientId</th>\n",
       "      <th>AppointmentID</th>\n",
       "      <th>Gender</th>\n",
       "      <th>ScheduledDay</th>\n",
       "      <th>AppointmentDay</th>\n",
       "      <th>Age</th>\n",
       "      <th>Neighbourhood</th>\n",
       "      <th>Scholarship</th>\n",
       "      <th>Hipertension</th>\n",
       "      <th>Diabetes</th>\n",
       "      <th>Alcoholism</th>\n",
       "      <th>Handcap</th>\n",
       "      <th>SMS_received</th>\n",
       "      <th>No-show</th>\n",
       "    </tr>\n",
       "  </thead>\n",
       "  <tbody>\n",
       "    <tr>\n",
       "      <th>0</th>\n",
       "      <td>2.987250e+13</td>\n",
       "      <td>5642903</td>\n",
       "      <td>F</td>\n",
       "      <td>2016-04-29T18:38:08Z</td>\n",
       "      <td>2016-04-29T00:00:00Z</td>\n",
       "      <td>62</td>\n",
       "      <td>JARDIM DA PENHA</td>\n",
       "      <td>0</td>\n",
       "      <td>1</td>\n",
       "      <td>0</td>\n",
       "      <td>0</td>\n",
       "      <td>0</td>\n",
       "      <td>0</td>\n",
       "      <td>No</td>\n",
       "    </tr>\n",
       "    <tr>\n",
       "      <th>1</th>\n",
       "      <td>5.589978e+14</td>\n",
       "      <td>5642503</td>\n",
       "      <td>M</td>\n",
       "      <td>2016-04-29T16:08:27Z</td>\n",
       "      <td>2016-04-29T00:00:00Z</td>\n",
       "      <td>56</td>\n",
       "      <td>JARDIM DA PENHA</td>\n",
       "      <td>0</td>\n",
       "      <td>0</td>\n",
       "      <td>0</td>\n",
       "      <td>0</td>\n",
       "      <td>0</td>\n",
       "      <td>0</td>\n",
       "      <td>No</td>\n",
       "    </tr>\n",
       "    <tr>\n",
       "      <th>2</th>\n",
       "      <td>4.262962e+12</td>\n",
       "      <td>5642549</td>\n",
       "      <td>F</td>\n",
       "      <td>2016-04-29T16:19:04Z</td>\n",
       "      <td>2016-04-29T00:00:00Z</td>\n",
       "      <td>62</td>\n",
       "      <td>MATA DA PRAIA</td>\n",
       "      <td>0</td>\n",
       "      <td>0</td>\n",
       "      <td>0</td>\n",
       "      <td>0</td>\n",
       "      <td>0</td>\n",
       "      <td>0</td>\n",
       "      <td>No</td>\n",
       "    </tr>\n",
       "    <tr>\n",
       "      <th>3</th>\n",
       "      <td>8.679512e+11</td>\n",
       "      <td>5642828</td>\n",
       "      <td>F</td>\n",
       "      <td>2016-04-29T17:29:31Z</td>\n",
       "      <td>2016-04-29T00:00:00Z</td>\n",
       "      <td>8</td>\n",
       "      <td>PONTAL DE CAMBURI</td>\n",
       "      <td>0</td>\n",
       "      <td>0</td>\n",
       "      <td>0</td>\n",
       "      <td>0</td>\n",
       "      <td>0</td>\n",
       "      <td>0</td>\n",
       "      <td>No</td>\n",
       "    </tr>\n",
       "    <tr>\n",
       "      <th>4</th>\n",
       "      <td>8.841186e+12</td>\n",
       "      <td>5642494</td>\n",
       "      <td>F</td>\n",
       "      <td>2016-04-29T16:07:23Z</td>\n",
       "      <td>2016-04-29T00:00:00Z</td>\n",
       "      <td>56</td>\n",
       "      <td>JARDIM DA PENHA</td>\n",
       "      <td>0</td>\n",
       "      <td>1</td>\n",
       "      <td>1</td>\n",
       "      <td>0</td>\n",
       "      <td>0</td>\n",
       "      <td>0</td>\n",
       "      <td>No</td>\n",
       "    </tr>\n",
       "  </tbody>\n",
       "</table>\n",
       "</div>"
      ],
      "text/plain": [
       "      PatientId  AppointmentID Gender          ScheduledDay  \\\n",
       "0  2.987250e+13        5642903      F  2016-04-29T18:38:08Z   \n",
       "1  5.589978e+14        5642503      M  2016-04-29T16:08:27Z   \n",
       "2  4.262962e+12        5642549      F  2016-04-29T16:19:04Z   \n",
       "3  8.679512e+11        5642828      F  2016-04-29T17:29:31Z   \n",
       "4  8.841186e+12        5642494      F  2016-04-29T16:07:23Z   \n",
       "\n",
       "         AppointmentDay  Age      Neighbourhood  Scholarship  Hipertension  \\\n",
       "0  2016-04-29T00:00:00Z   62    JARDIM DA PENHA            0             1   \n",
       "1  2016-04-29T00:00:00Z   56    JARDIM DA PENHA            0             0   \n",
       "2  2016-04-29T00:00:00Z   62      MATA DA PRAIA            0             0   \n",
       "3  2016-04-29T00:00:00Z    8  PONTAL DE CAMBURI            0             0   \n",
       "4  2016-04-29T00:00:00Z   56    JARDIM DA PENHA            0             1   \n",
       "\n",
       "   Diabetes  Alcoholism  Handcap  SMS_received No-show  \n",
       "0         0           0        0             0      No  \n",
       "1         0           0        0             0      No  \n",
       "2         0           0        0             0      No  \n",
       "3         0           0        0             0      No  \n",
       "4         1           0        0             0      No  "
      ]
     },
     "execution_count": 2,
     "metadata": {},
     "output_type": "execute_result"
    }
   ],
   "source": [
    "# loan no-shown-up medical appointments datasets\n",
    "df = pd.read_csv('noshowappointments-kagglev2-may-2016.csv')\n",
    "# view dataframe to have a general idea\n",
    "df.head()"
   ]
  },
  {
   "cell_type": "code",
   "execution_count": 3,
   "metadata": {},
   "outputs": [
    {
     "name": "stdout",
     "output_type": "stream",
     "text": [
      "<class 'pandas.core.frame.DataFrame'>\n",
      "RangeIndex: 110527 entries, 0 to 110526\n",
      "Data columns (total 14 columns):\n",
      "PatientId         110527 non-null float64\n",
      "AppointmentID     110527 non-null int64\n",
      "Gender            110527 non-null object\n",
      "ScheduledDay      110527 non-null object\n",
      "AppointmentDay    110527 non-null object\n",
      "Age               110527 non-null int64\n",
      "Neighbourhood     110527 non-null object\n",
      "Scholarship       110527 non-null int64\n",
      "Hipertension      110527 non-null int64\n",
      "Diabetes          110527 non-null int64\n",
      "Alcoholism        110527 non-null int64\n",
      "Handcap           110527 non-null int64\n",
      "SMS_received      110527 non-null int64\n",
      "No-show           110527 non-null object\n",
      "dtypes: float64(1), int64(8), object(5)\n",
      "memory usage: 11.8+ MB\n"
     ]
    }
   ],
   "source": [
    "# get information about the dataframe including the columns and rows numbers, column dtypes, non-null values and memory usage. \n",
    "df.info()"
   ]
  },
  {
   "cell_type": "code",
   "execution_count": 4,
   "metadata": {
    "scrolled": true
   },
   "outputs": [
    {
     "data": {
      "text/html": [
       "<div>\n",
       "<style scoped>\n",
       "    .dataframe tbody tr th:only-of-type {\n",
       "        vertical-align: middle;\n",
       "    }\n",
       "\n",
       "    .dataframe tbody tr th {\n",
       "        vertical-align: top;\n",
       "    }\n",
       "\n",
       "    .dataframe thead th {\n",
       "        text-align: right;\n",
       "    }\n",
       "</style>\n",
       "<table border=\"1\" class=\"dataframe\">\n",
       "  <thead>\n",
       "    <tr style=\"text-align: right;\">\n",
       "      <th></th>\n",
       "      <th>PatientId</th>\n",
       "      <th>AppointmentID</th>\n",
       "      <th>Age</th>\n",
       "      <th>Scholarship</th>\n",
       "      <th>Hipertension</th>\n",
       "      <th>Diabetes</th>\n",
       "      <th>Alcoholism</th>\n",
       "      <th>Handcap</th>\n",
       "      <th>SMS_received</th>\n",
       "    </tr>\n",
       "  </thead>\n",
       "  <tbody>\n",
       "    <tr>\n",
       "      <th>count</th>\n",
       "      <td>1.105270e+05</td>\n",
       "      <td>1.105270e+05</td>\n",
       "      <td>110527.000000</td>\n",
       "      <td>110527.000000</td>\n",
       "      <td>110527.000000</td>\n",
       "      <td>110527.000000</td>\n",
       "      <td>110527.000000</td>\n",
       "      <td>110527.000000</td>\n",
       "      <td>110527.000000</td>\n",
       "    </tr>\n",
       "    <tr>\n",
       "      <th>mean</th>\n",
       "      <td>1.474963e+14</td>\n",
       "      <td>5.675305e+06</td>\n",
       "      <td>37.088874</td>\n",
       "      <td>0.098266</td>\n",
       "      <td>0.197246</td>\n",
       "      <td>0.071865</td>\n",
       "      <td>0.030400</td>\n",
       "      <td>0.022248</td>\n",
       "      <td>0.321026</td>\n",
       "    </tr>\n",
       "    <tr>\n",
       "      <th>std</th>\n",
       "      <td>2.560949e+14</td>\n",
       "      <td>7.129575e+04</td>\n",
       "      <td>23.110205</td>\n",
       "      <td>0.297675</td>\n",
       "      <td>0.397921</td>\n",
       "      <td>0.258265</td>\n",
       "      <td>0.171686</td>\n",
       "      <td>0.161543</td>\n",
       "      <td>0.466873</td>\n",
       "    </tr>\n",
       "    <tr>\n",
       "      <th>min</th>\n",
       "      <td>3.921784e+04</td>\n",
       "      <td>5.030230e+06</td>\n",
       "      <td>-1.000000</td>\n",
       "      <td>0.000000</td>\n",
       "      <td>0.000000</td>\n",
       "      <td>0.000000</td>\n",
       "      <td>0.000000</td>\n",
       "      <td>0.000000</td>\n",
       "      <td>0.000000</td>\n",
       "    </tr>\n",
       "    <tr>\n",
       "      <th>25%</th>\n",
       "      <td>4.172614e+12</td>\n",
       "      <td>5.640286e+06</td>\n",
       "      <td>18.000000</td>\n",
       "      <td>0.000000</td>\n",
       "      <td>0.000000</td>\n",
       "      <td>0.000000</td>\n",
       "      <td>0.000000</td>\n",
       "      <td>0.000000</td>\n",
       "      <td>0.000000</td>\n",
       "    </tr>\n",
       "    <tr>\n",
       "      <th>50%</th>\n",
       "      <td>3.173184e+13</td>\n",
       "      <td>5.680573e+06</td>\n",
       "      <td>37.000000</td>\n",
       "      <td>0.000000</td>\n",
       "      <td>0.000000</td>\n",
       "      <td>0.000000</td>\n",
       "      <td>0.000000</td>\n",
       "      <td>0.000000</td>\n",
       "      <td>0.000000</td>\n",
       "    </tr>\n",
       "    <tr>\n",
       "      <th>75%</th>\n",
       "      <td>9.439172e+13</td>\n",
       "      <td>5.725524e+06</td>\n",
       "      <td>55.000000</td>\n",
       "      <td>0.000000</td>\n",
       "      <td>0.000000</td>\n",
       "      <td>0.000000</td>\n",
       "      <td>0.000000</td>\n",
       "      <td>0.000000</td>\n",
       "      <td>1.000000</td>\n",
       "    </tr>\n",
       "    <tr>\n",
       "      <th>max</th>\n",
       "      <td>9.999816e+14</td>\n",
       "      <td>5.790484e+06</td>\n",
       "      <td>115.000000</td>\n",
       "      <td>1.000000</td>\n",
       "      <td>1.000000</td>\n",
       "      <td>1.000000</td>\n",
       "      <td>1.000000</td>\n",
       "      <td>4.000000</td>\n",
       "      <td>1.000000</td>\n",
       "    </tr>\n",
       "  </tbody>\n",
       "</table>\n",
       "</div>"
      ],
      "text/plain": [
       "          PatientId  AppointmentID            Age    Scholarship  \\\n",
       "count  1.105270e+05   1.105270e+05  110527.000000  110527.000000   \n",
       "mean   1.474963e+14   5.675305e+06      37.088874       0.098266   \n",
       "std    2.560949e+14   7.129575e+04      23.110205       0.297675   \n",
       "min    3.921784e+04   5.030230e+06      -1.000000       0.000000   \n",
       "25%    4.172614e+12   5.640286e+06      18.000000       0.000000   \n",
       "50%    3.173184e+13   5.680573e+06      37.000000       0.000000   \n",
       "75%    9.439172e+13   5.725524e+06      55.000000       0.000000   \n",
       "max    9.999816e+14   5.790484e+06     115.000000       1.000000   \n",
       "\n",
       "        Hipertension       Diabetes     Alcoholism        Handcap  \\\n",
       "count  110527.000000  110527.000000  110527.000000  110527.000000   \n",
       "mean        0.197246       0.071865       0.030400       0.022248   \n",
       "std         0.397921       0.258265       0.171686       0.161543   \n",
       "min         0.000000       0.000000       0.000000       0.000000   \n",
       "25%         0.000000       0.000000       0.000000       0.000000   \n",
       "50%         0.000000       0.000000       0.000000       0.000000   \n",
       "75%         0.000000       0.000000       0.000000       0.000000   \n",
       "max         1.000000       1.000000       1.000000       4.000000   \n",
       "\n",
       "        SMS_received  \n",
       "count  110527.000000  \n",
       "mean        0.321026  \n",
       "std         0.466873  \n",
       "min         0.000000  \n",
       "25%         0.000000  \n",
       "50%         0.000000  \n",
       "75%         1.000000  \n",
       "max         1.000000  "
      ]
     },
     "execution_count": 4,
     "metadata": {},
     "output_type": "execute_result"
    }
   ],
   "source": [
    "# get information about dataset's distribution\n",
    "df.describe()"
   ]
  },
  {
   "cell_type": "code",
   "execution_count": 5,
   "metadata": {},
   "outputs": [
    {
     "data": {
      "text/plain": [
       "0"
      ]
     },
     "execution_count": 5,
     "metadata": {},
     "output_type": "execute_result"
    }
   ],
   "source": [
    "# check if there are duplicates in the dataset\n",
    "df.duplicated().sum()"
   ]
  },
  {
   "cell_type": "code",
   "execution_count": 6,
   "metadata": {},
   "outputs": [
    {
     "data": {
      "text/plain": [
       "PatientId         0\n",
       "AppointmentID     0\n",
       "Gender            0\n",
       "ScheduledDay      0\n",
       "AppointmentDay    0\n",
       "Age               0\n",
       "Neighbourhood     0\n",
       "Scholarship       0\n",
       "Hipertension      0\n",
       "Diabetes          0\n",
       "Alcoholism        0\n",
       "Handcap           0\n",
       "SMS_received      0\n",
       "No-show           0\n",
       "dtype: int64"
      ]
     },
     "execution_count": 6,
     "metadata": {},
     "output_type": "execute_result"
    }
   ],
   "source": [
    "# check if there are null datas in the dataset\n",
    "df.isnull().sum()"
   ]
  },
  {
   "cell_type": "code",
   "execution_count": 7,
   "metadata": {},
   "outputs": [
    {
     "data": {
      "text/plain": [
       "PatientId          62299\n",
       "AppointmentID     110527\n",
       "Gender                 2\n",
       "ScheduledDay      103549\n",
       "AppointmentDay        27\n",
       "Age                  104\n",
       "Neighbourhood         81\n",
       "Scholarship            2\n",
       "Hipertension           2\n",
       "Diabetes               2\n",
       "Alcoholism             2\n",
       "Handcap                5\n",
       "SMS_received           2\n",
       "No-show                2\n",
       "dtype: int64"
      ]
     },
     "execution_count": 7,
     "metadata": {},
     "output_type": "execute_result"
    }
   ],
   "source": [
    "# check the number of unique values in each column\n",
    "df.nunique()"
   ]
  },
  {
   "cell_type": "markdown",
   "metadata": {},
   "source": [
    "> With a general view of the dataset, this is a 2D table with 110527 rows and 14 columns. \n",
    "The Appointment ID is the only unique data. There is no duplicate, neither null data in the table. Therefore, we do not need to treat the duplicated and null in this case. "
   ]
  },
  {
   "cell_type": "markdown",
   "metadata": {},
   "source": [
    "<a id='dc'></a>\n",
    "### Data Cleaning"
   ]
  },
  {
   "cell_type": "markdown",
   "metadata": {},
   "source": [
    "<a id='1'></a>\n",
    "#### *1 - Spelling Errors*\n",
    "Two spelling errors are noticed and should be corrected as following: Handcap --> Handicap & Hipertension --> Hypertension.\n",
    "Also No-show will be changed into 'No_show'."
   ]
  },
  {
   "cell_type": "code",
   "execution_count": 8,
   "metadata": {},
   "outputs": [
    {
     "name": "stdout",
     "output_type": "stream",
     "text": [
      "<class 'pandas.core.frame.DataFrame'>\n",
      "RangeIndex: 110527 entries, 0 to 110526\n",
      "Data columns (total 14 columns):\n",
      "PatientId         110527 non-null float64\n",
      "AppointmentID     110527 non-null int64\n",
      "Gender            110527 non-null object\n",
      "ScheduledDay      110527 non-null object\n",
      "AppointmentDay    110527 non-null object\n",
      "Age               110527 non-null int64\n",
      "Neighbourhood     110527 non-null object\n",
      "Scholarship       110527 non-null int64\n",
      "Hypertension      110527 non-null int64\n",
      "Diabetes          110527 non-null int64\n",
      "Alcoholism        110527 non-null int64\n",
      "Handicap          110527 non-null int64\n",
      "SMS_received      110527 non-null int64\n",
      "No_show           110527 non-null object\n",
      "dtypes: float64(1), int64(8), object(5)\n",
      "memory usage: 11.8+ MB\n"
     ]
    }
   ],
   "source": [
    "# rename the 3 columns\n",
    "df.rename(columns = {'Handcap': 'Handicap', 'Hipertension': 'Hypertension', 'No-show': 'No_show'}, inplace = True)\n",
    "# verify if it is renamed correctly\n",
    "df.info()"
   ]
  },
  {
   "cell_type": "markdown",
   "metadata": {
    "collapsed": true
   },
   "source": [
    "<a id='2'></a>\n",
    "#### *2 - Date Extracting*\n",
    "In this step, we are going to convert the Scheduled Day and Appointment Day by extracting only date and dropping the hour information, which should not be an important element for attendance consideration."
   ]
  },
  {
   "cell_type": "code",
   "execution_count": 9,
   "metadata": {},
   "outputs": [
    {
     "data": {
      "text/html": [
       "<div>\n",
       "<style scoped>\n",
       "    .dataframe tbody tr th:only-of-type {\n",
       "        vertical-align: middle;\n",
       "    }\n",
       "\n",
       "    .dataframe tbody tr th {\n",
       "        vertical-align: top;\n",
       "    }\n",
       "\n",
       "    .dataframe thead th {\n",
       "        text-align: right;\n",
       "    }\n",
       "</style>\n",
       "<table border=\"1\" class=\"dataframe\">\n",
       "  <thead>\n",
       "    <tr style=\"text-align: right;\">\n",
       "      <th></th>\n",
       "      <th>PatientId</th>\n",
       "      <th>AppointmentID</th>\n",
       "      <th>Gender</th>\n",
       "      <th>ScheduledDay</th>\n",
       "      <th>AppointmentDay</th>\n",
       "      <th>Age</th>\n",
       "      <th>Neighbourhood</th>\n",
       "      <th>Scholarship</th>\n",
       "      <th>Hypertension</th>\n",
       "      <th>Diabetes</th>\n",
       "      <th>Alcoholism</th>\n",
       "      <th>Handicap</th>\n",
       "      <th>SMS_received</th>\n",
       "      <th>No_show</th>\n",
       "    </tr>\n",
       "  </thead>\n",
       "  <tbody>\n",
       "    <tr>\n",
       "      <th>0</th>\n",
       "      <td>2.987250e+13</td>\n",
       "      <td>5642903</td>\n",
       "      <td>F</td>\n",
       "      <td>2016-04-29</td>\n",
       "      <td>2016-04-29</td>\n",
       "      <td>62</td>\n",
       "      <td>JARDIM DA PENHA</td>\n",
       "      <td>0</td>\n",
       "      <td>1</td>\n",
       "      <td>0</td>\n",
       "      <td>0</td>\n",
       "      <td>0</td>\n",
       "      <td>0</td>\n",
       "      <td>No</td>\n",
       "    </tr>\n",
       "    <tr>\n",
       "      <th>1</th>\n",
       "      <td>5.589978e+14</td>\n",
       "      <td>5642503</td>\n",
       "      <td>M</td>\n",
       "      <td>2016-04-29</td>\n",
       "      <td>2016-04-29</td>\n",
       "      <td>56</td>\n",
       "      <td>JARDIM DA PENHA</td>\n",
       "      <td>0</td>\n",
       "      <td>0</td>\n",
       "      <td>0</td>\n",
       "      <td>0</td>\n",
       "      <td>0</td>\n",
       "      <td>0</td>\n",
       "      <td>No</td>\n",
       "    </tr>\n",
       "    <tr>\n",
       "      <th>2</th>\n",
       "      <td>4.262962e+12</td>\n",
       "      <td>5642549</td>\n",
       "      <td>F</td>\n",
       "      <td>2016-04-29</td>\n",
       "      <td>2016-04-29</td>\n",
       "      <td>62</td>\n",
       "      <td>MATA DA PRAIA</td>\n",
       "      <td>0</td>\n",
       "      <td>0</td>\n",
       "      <td>0</td>\n",
       "      <td>0</td>\n",
       "      <td>0</td>\n",
       "      <td>0</td>\n",
       "      <td>No</td>\n",
       "    </tr>\n",
       "  </tbody>\n",
       "</table>\n",
       "</div>"
      ],
      "text/plain": [
       "      PatientId  AppointmentID Gender ScheduledDay AppointmentDay  Age  \\\n",
       "0  2.987250e+13        5642903      F   2016-04-29     2016-04-29   62   \n",
       "1  5.589978e+14        5642503      M   2016-04-29     2016-04-29   56   \n",
       "2  4.262962e+12        5642549      F   2016-04-29     2016-04-29   62   \n",
       "\n",
       "     Neighbourhood  Scholarship  Hypertension  Diabetes  Alcoholism  Handicap  \\\n",
       "0  JARDIM DA PENHA            0             1         0           0         0   \n",
       "1  JARDIM DA PENHA            0             0         0           0         0   \n",
       "2    MATA DA PRAIA            0             0         0           0         0   \n",
       "\n",
       "   SMS_received No_show  \n",
       "0             0      No  \n",
       "1             0      No  \n",
       "2             0      No  "
      ]
     },
     "execution_count": 9,
     "metadata": {},
     "output_type": "execute_result"
    }
   ],
   "source": [
    "# extract only 'yyyy-mm-dd' from the string including time\n",
    "df['ScheduledDay'] = df['ScheduledDay'].str[0:10]\n",
    "df['AppointmentDay'] = df['AppointmentDay'].str[0:10]\n",
    "# verify if the extration has been done correctly\n",
    "df.head(3)"
   ]
  },
  {
   "cell_type": "code",
   "execution_count": 10,
   "metadata": {},
   "outputs": [
    {
     "data": {
      "text/plain": [
       "pandas._libs.tslibs.timestamps.Timestamp"
      ]
     },
     "execution_count": 10,
     "metadata": {},
     "output_type": "execute_result"
    }
   ],
   "source": [
    "# convert the type of days from string to datetime64[ns], then verify.\n",
    "df_ScheduledDay = pd.to_datetime(df['ScheduledDay'])\n",
    "type(df_ScheduledDay[0])"
   ]
  },
  {
   "cell_type": "code",
   "execution_count": 11,
   "metadata": {},
   "outputs": [
    {
     "data": {
      "text/plain": [
       "pandas._libs.tslibs.timestamps.Timestamp"
      ]
     },
     "execution_count": 11,
     "metadata": {},
     "output_type": "execute_result"
    }
   ],
   "source": [
    "df_AppointmentDay = pd.to_datetime(df['AppointmentDay'])\n",
    "type(df_AppointmentDay[0])"
   ]
  },
  {
   "cell_type": "markdown",
   "metadata": {},
   "source": [
    "Convert the appointment day to weekday and add this new column into the dataframe is for the reason to understand if the day of week matters the attendance.\n",
    "Mondays are 0 and Sundays are 6."
   ]
  },
  {
   "cell_type": "code",
   "execution_count": 12,
   "metadata": {},
   "outputs": [],
   "source": [
    "# convert the date into the weekday and create a new column named Weekday\n",
    "df_Weekday = pd.to_datetime(df['AppointmentDay']).dt.weekday.rename(\"Weekday\")"
   ]
  },
  {
   "cell_type": "markdown",
   "metadata": {},
   "source": [
    "Calculate the number of days between the scheduled and appointment day, then add this new column into the dataframe, in order to understand if the duration matters the attendance."
   ]
  },
  {
   "cell_type": "code",
   "execution_count": 13,
   "metadata": {},
   "outputs": [],
   "source": [
    "# calculate days between two dates and create a new column named Duration\n",
    "df_Duration = (df_AppointmentDay - df_ScheduledDay).dt.days.rename('Duration')"
   ]
  },
  {
   "cell_type": "code",
   "execution_count": 14,
   "metadata": {},
   "outputs": [],
   "source": [
    "# add two new columns into the inital dataset\n",
    "df = pd.concat([df,df_Weekday,df_Duration],axis=1)"
   ]
  },
  {
   "cell_type": "code",
   "execution_count": 15,
   "metadata": {},
   "outputs": [
    {
     "data": {
      "text/html": [
       "<div>\n",
       "<style scoped>\n",
       "    .dataframe tbody tr th:only-of-type {\n",
       "        vertical-align: middle;\n",
       "    }\n",
       "\n",
       "    .dataframe tbody tr th {\n",
       "        vertical-align: top;\n",
       "    }\n",
       "\n",
       "    .dataframe thead th {\n",
       "        text-align: right;\n",
       "    }\n",
       "</style>\n",
       "<table border=\"1\" class=\"dataframe\">\n",
       "  <thead>\n",
       "    <tr style=\"text-align: right;\">\n",
       "      <th></th>\n",
       "      <th>PatientId</th>\n",
       "      <th>AppointmentID</th>\n",
       "      <th>Gender</th>\n",
       "      <th>ScheduledDay</th>\n",
       "      <th>AppointmentDay</th>\n",
       "      <th>Age</th>\n",
       "      <th>Neighbourhood</th>\n",
       "      <th>Scholarship</th>\n",
       "      <th>Hypertension</th>\n",
       "      <th>Diabetes</th>\n",
       "      <th>Alcoholism</th>\n",
       "      <th>Handicap</th>\n",
       "      <th>SMS_received</th>\n",
       "      <th>No_show</th>\n",
       "      <th>Weekday</th>\n",
       "      <th>Duration</th>\n",
       "    </tr>\n",
       "  </thead>\n",
       "  <tbody>\n",
       "    <tr>\n",
       "      <th>0</th>\n",
       "      <td>2.987250e+13</td>\n",
       "      <td>5642903</td>\n",
       "      <td>F</td>\n",
       "      <td>2016-04-29</td>\n",
       "      <td>2016-04-29</td>\n",
       "      <td>62</td>\n",
       "      <td>JARDIM DA PENHA</td>\n",
       "      <td>0</td>\n",
       "      <td>1</td>\n",
       "      <td>0</td>\n",
       "      <td>0</td>\n",
       "      <td>0</td>\n",
       "      <td>0</td>\n",
       "      <td>No</td>\n",
       "      <td>4</td>\n",
       "      <td>0</td>\n",
       "    </tr>\n",
       "    <tr>\n",
       "      <th>1</th>\n",
       "      <td>5.589978e+14</td>\n",
       "      <td>5642503</td>\n",
       "      <td>M</td>\n",
       "      <td>2016-04-29</td>\n",
       "      <td>2016-04-29</td>\n",
       "      <td>56</td>\n",
       "      <td>JARDIM DA PENHA</td>\n",
       "      <td>0</td>\n",
       "      <td>0</td>\n",
       "      <td>0</td>\n",
       "      <td>0</td>\n",
       "      <td>0</td>\n",
       "      <td>0</td>\n",
       "      <td>No</td>\n",
       "      <td>4</td>\n",
       "      <td>0</td>\n",
       "    </tr>\n",
       "    <tr>\n",
       "      <th>2</th>\n",
       "      <td>4.262962e+12</td>\n",
       "      <td>5642549</td>\n",
       "      <td>F</td>\n",
       "      <td>2016-04-29</td>\n",
       "      <td>2016-04-29</td>\n",
       "      <td>62</td>\n",
       "      <td>MATA DA PRAIA</td>\n",
       "      <td>0</td>\n",
       "      <td>0</td>\n",
       "      <td>0</td>\n",
       "      <td>0</td>\n",
       "      <td>0</td>\n",
       "      <td>0</td>\n",
       "      <td>No</td>\n",
       "      <td>4</td>\n",
       "      <td>0</td>\n",
       "    </tr>\n",
       "    <tr>\n",
       "      <th>3</th>\n",
       "      <td>8.679512e+11</td>\n",
       "      <td>5642828</td>\n",
       "      <td>F</td>\n",
       "      <td>2016-04-29</td>\n",
       "      <td>2016-04-29</td>\n",
       "      <td>8</td>\n",
       "      <td>PONTAL DE CAMBURI</td>\n",
       "      <td>0</td>\n",
       "      <td>0</td>\n",
       "      <td>0</td>\n",
       "      <td>0</td>\n",
       "      <td>0</td>\n",
       "      <td>0</td>\n",
       "      <td>No</td>\n",
       "      <td>4</td>\n",
       "      <td>0</td>\n",
       "    </tr>\n",
       "    <tr>\n",
       "      <th>4</th>\n",
       "      <td>8.841186e+12</td>\n",
       "      <td>5642494</td>\n",
       "      <td>F</td>\n",
       "      <td>2016-04-29</td>\n",
       "      <td>2016-04-29</td>\n",
       "      <td>56</td>\n",
       "      <td>JARDIM DA PENHA</td>\n",
       "      <td>0</td>\n",
       "      <td>1</td>\n",
       "      <td>1</td>\n",
       "      <td>0</td>\n",
       "      <td>0</td>\n",
       "      <td>0</td>\n",
       "      <td>No</td>\n",
       "      <td>4</td>\n",
       "      <td>0</td>\n",
       "    </tr>\n",
       "  </tbody>\n",
       "</table>\n",
       "</div>"
      ],
      "text/plain": [
       "      PatientId  AppointmentID Gender ScheduledDay AppointmentDay  Age  \\\n",
       "0  2.987250e+13        5642903      F   2016-04-29     2016-04-29   62   \n",
       "1  5.589978e+14        5642503      M   2016-04-29     2016-04-29   56   \n",
       "2  4.262962e+12        5642549      F   2016-04-29     2016-04-29   62   \n",
       "3  8.679512e+11        5642828      F   2016-04-29     2016-04-29    8   \n",
       "4  8.841186e+12        5642494      F   2016-04-29     2016-04-29   56   \n",
       "\n",
       "       Neighbourhood  Scholarship  Hypertension  Diabetes  Alcoholism  \\\n",
       "0    JARDIM DA PENHA            0             1         0           0   \n",
       "1    JARDIM DA PENHA            0             0         0           0   \n",
       "2      MATA DA PRAIA            0             0         0           0   \n",
       "3  PONTAL DE CAMBURI            0             0         0           0   \n",
       "4    JARDIM DA PENHA            0             1         1           0   \n",
       "\n",
       "   Handicap  SMS_received No_show  Weekday  Duration  \n",
       "0         0             0      No        4         0  \n",
       "1         0             0      No        4         0  \n",
       "2         0             0      No        4         0  \n",
       "3         0             0      No        4         0  \n",
       "4         0             0      No        4         0  "
      ]
     },
     "execution_count": 15,
     "metadata": {},
     "output_type": "execute_result"
    }
   ],
   "source": [
    "# verify if two columns are added \n",
    "df.head()"
   ]
  },
  {
   "cell_type": "markdown",
   "metadata": {},
   "source": [
    "We need to check if all appointment days are made on the same day of scheduled days or after. Drop the rows where ScheduledDay is later than AppointmentDay."
   ]
  },
  {
   "cell_type": "code",
   "execution_count": 16,
   "metadata": {},
   "outputs": [
    {
     "data": {
      "text/plain": [
       "PatientId         5\n",
       "AppointmentID     5\n",
       "Gender            5\n",
       "ScheduledDay      5\n",
       "AppointmentDay    5\n",
       "Age               5\n",
       "Neighbourhood     5\n",
       "Scholarship       5\n",
       "Hypertension      5\n",
       "Diabetes          5\n",
       "Alcoholism        5\n",
       "Handicap          5\n",
       "SMS_received      5\n",
       "No_show           5\n",
       "Weekday           5\n",
       "Duration          5\n",
       "dtype: int64"
      ]
     },
     "execution_count": 16,
     "metadata": {},
     "output_type": "execute_result"
    }
   ],
   "source": [
    "df[df.Duration<0].count()"
   ]
  },
  {
   "cell_type": "markdown",
   "metadata": {},
   "source": [
    "> There are 5 appointments were made before the scheduled days, which could be considered to be dropped."
   ]
  },
  {
   "cell_type": "code",
   "execution_count": 17,
   "metadata": {},
   "outputs": [
    {
     "name": "stdout",
     "output_type": "stream",
     "text": [
      "<class 'pandas.core.frame.DataFrame'>\n",
      "Int64Index: 110522 entries, 0 to 110526\n",
      "Data columns (total 16 columns):\n",
      "PatientId         110522 non-null float64\n",
      "AppointmentID     110522 non-null int64\n",
      "Gender            110522 non-null object\n",
      "ScheduledDay      110522 non-null object\n",
      "AppointmentDay    110522 non-null object\n",
      "Age               110522 non-null int64\n",
      "Neighbourhood     110522 non-null object\n",
      "Scholarship       110522 non-null int64\n",
      "Hypertension      110522 non-null int64\n",
      "Diabetes          110522 non-null int64\n",
      "Alcoholism        110522 non-null int64\n",
      "Handicap          110522 non-null int64\n",
      "SMS_received      110522 non-null int64\n",
      "No_show           110522 non-null object\n",
      "Weekday           110522 non-null int64\n",
      "Duration          110522 non-null int64\n",
      "dtypes: float64(1), int64(10), object(5)\n",
      "memory usage: 14.3+ MB\n"
     ]
    }
   ],
   "source": [
    "df = df[(df.Duration >= 0)]\n",
    "df.info()"
   ]
  },
  {
   "cell_type": "markdown",
   "metadata": {},
   "source": [
    "<a id='3'></a>\n",
    "#### *3 - Age_Stage*\n",
    "In the previous general investigation, we realise that there are 104 values for variable 'Age'. I would like to investigate more to understand if all the information is pertinent."
   ]
  },
  {
   "cell_type": "code",
   "execution_count": 18,
   "metadata": {},
   "outputs": [
    {
     "name": "stdout",
     "output_type": "stream",
     "text": [
      "age [ -1   0   1   2   3   4   5   6   7   8   9  10  11  12  13  14  15  16\n",
      "  17  18  19  20  21  22  23  24  25  26  27  28  29  30  31  32  33  34\n",
      "  35  36  37  38  39  40  41  42  43  44  45  46  47  48  49  50  51  52\n",
      "  53  54  55  56  57  58  59  60  61  62  63  64  65  66  67  68  69  70\n",
      "  71  72  73  74  75  76  77  78  79  80  81  82  83  84  85  86  87  88\n",
      "  89  90  91  92  93  94  95  96  97  98  99 100 102 115]\n"
     ]
    }
   ],
   "source": [
    "# check the age datas by order\n",
    "df_age = df['Age'].unique()\n",
    "df_age.sort()\n",
    "print('age', df_age)\n",
    "#same to == print('Age:', sorted(df['Age'].unique()))"
   ]
  },
  {
   "cell_type": "code",
   "execution_count": 19,
   "metadata": {},
   "outputs": [
    {
     "data": {
      "text/plain": [
       " 0      3539\n",
       " 1      2273\n",
       " 52     1746\n",
       " 49     1652\n",
       " 53     1651\n",
       " 56     1635\n",
       " 38     1628\n",
       " 59     1624\n",
       " 2      1618\n",
       " 50     1613\n",
       " 57     1603\n",
       " 36     1580\n",
       " 51     1567\n",
       " 19     1544\n",
       " 39     1536\n",
       " 37     1533\n",
       " 54     1530\n",
       " 34     1526\n",
       " 33     1524\n",
       " 30     1521\n",
       " 6      1521\n",
       " 3      1513\n",
       " 17     1509\n",
       " 32     1505\n",
       " 5      1489\n",
       " 44     1487\n",
       " 18     1487\n",
       " 58     1469\n",
       " 46     1460\n",
       " 45     1453\n",
       "        ... \n",
       " 74      602\n",
       " 76      571\n",
       " 75      544\n",
       " 78      541\n",
       " 77      527\n",
       " 80      511\n",
       " 81      433\n",
       " 82      392\n",
       " 79      390\n",
       " 84      311\n",
       " 83      280\n",
       " 85      275\n",
       " 86      260\n",
       " 87      184\n",
       " 89      173\n",
       " 88      126\n",
       " 90      109\n",
       " 92       86\n",
       " 91       66\n",
       " 93       53\n",
       " 94       33\n",
       " 95       24\n",
       " 96       17\n",
       " 97       11\n",
       " 98        6\n",
       " 115       5\n",
       " 100       4\n",
       " 102       2\n",
       " 99        1\n",
       "-1         1\n",
       "Name: Age, Length: 104, dtype: int64"
      ]
     },
     "execution_count": 19,
     "metadata": {},
     "output_type": "execute_result"
    }
   ],
   "source": [
    "# count appointment numbers for each age\n",
    "df['Age'].value_counts()"
   ]
  },
  {
   "cell_type": "markdown",
   "metadata": {},
   "source": [
    "> We could notice: \n",
    "> - there is an impossible age -1 that we need to drop this data information;\n",
    "> - some ages beyon 98 years-old are rare in human beings, thus I will treat these information as outliners and drop them."
   ]
  },
  {
   "cell_type": "code",
   "execution_count": 20,
   "metadata": {},
   "outputs": [
    {
     "name": "stdout",
     "output_type": "stream",
     "text": [
      "<class 'pandas.core.frame.DataFrame'>\n",
      "Int64Index: 110503 entries, 0 to 110526\n",
      "Data columns (total 16 columns):\n",
      "PatientId         110503 non-null float64\n",
      "AppointmentID     110503 non-null int64\n",
      "Gender            110503 non-null object\n",
      "ScheduledDay      110503 non-null object\n",
      "AppointmentDay    110503 non-null object\n",
      "Age               110503 non-null int64\n",
      "Neighbourhood     110503 non-null object\n",
      "Scholarship       110503 non-null int64\n",
      "Hypertension      110503 non-null int64\n",
      "Diabetes          110503 non-null int64\n",
      "Alcoholism        110503 non-null int64\n",
      "Handicap          110503 non-null int64\n",
      "SMS_received      110503 non-null int64\n",
      "No_show           110503 non-null object\n",
      "Weekday           110503 non-null int64\n",
      "Duration          110503 non-null int64\n",
      "dtypes: float64(1), int64(10), object(5)\n",
      "memory usage: 14.3+ MB\n"
     ]
    }
   ],
   "source": [
    "# drop the data with age < 0 and age >=98\n",
    "df = df[(df.Age >= 0) & (df.Age < 98)]\n",
    "df.info()"
   ]
  },
  {
   "cell_type": "markdown",
   "metadata": {},
   "source": [
    "<a id='4'></a>\n",
    "#### *4 - Handicap_Level*"
   ]
  },
  {
   "cell_type": "code",
   "execution_count": 21,
   "metadata": {},
   "outputs": [
    {
     "data": {
      "text/plain": [
       "0    108270\n",
       "1      2034\n",
       "2       183\n",
       "3        13\n",
       "4         3\n",
       "Name: Handicap, dtype: int64"
      ]
     },
     "execution_count": 21,
     "metadata": {},
     "output_type": "execute_result"
    }
   ],
   "source": [
    "# count the appointment numbers for each handicap level\n",
    "df['Handicap'].value_counts()"
   ]
  },
  {
   "cell_type": "markdown",
   "metadata": {},
   "source": [
    "> This column contains a integer rating for handicap level from 0 to 4. The value of level 2 to 4 are rares, thus we will group all level > 0 data together as level 1. Here, I a going to replace all the value > 1 to 1."
   ]
  },
  {
   "cell_type": "code",
   "execution_count": 22,
   "metadata": {},
   "outputs": [
    {
     "data": {
      "text/plain": [
       "0    108270\n",
       "1      2233\n",
       "Name: Handicap, dtype: int64"
      ]
     },
     "execution_count": 22,
     "metadata": {},
     "output_type": "execute_result"
    }
   ],
   "source": [
    "# modify all values > 1 in 'Handicap' column to 1\n",
    "df.loc[df.Handicap > 1, 'Handicap'] = 1\n",
    "# verify if Handicap column contains only two values 0 or 1\n",
    "df['Handicap'].value_counts()"
   ]
  },
  {
   "cell_type": "code",
   "execution_count": 23,
   "metadata": {},
   "outputs": [
    {
     "data": {
      "text/plain": [
       "PatientId          62286\n",
       "AppointmentID     110503\n",
       "Gender                 2\n",
       "ScheduledDay         111\n",
       "AppointmentDay        27\n",
       "Age                   98\n",
       "Neighbourhood         81\n",
       "Scholarship            2\n",
       "Hypertension           2\n",
       "Diabetes               2\n",
       "Alcoholism             2\n",
       "Handicap               2\n",
       "SMS_received           2\n",
       "No_show                2\n",
       "Weekday                6\n",
       "Duration             129\n",
       "dtype: int64"
      ]
     },
     "execution_count": 23,
     "metadata": {},
     "output_type": "execute_result"
    }
   ],
   "source": [
    "# verify the dataset if all changes are done\n",
    "df.nunique()"
   ]
  },
  {
   "cell_type": "markdown",
   "metadata": {},
   "source": [
    "<a id='eda'></a>\n",
    "### Exploratory Data Analysis"
   ]
  },
  {
   "cell_type": "markdown",
   "metadata": {},
   "source": [
    "<a id='Q1'></a>\n",
    "#### Research Question 1: the percentage of no-shown-up patients with scheduled appointment."
   ]
  },
  {
   "cell_type": "markdown",
   "metadata": {},
   "source": [
    "Before analysing the variables which may affect the patients' attendancs, we would like to have a idea about the propotion of the shown-up and non-shown-up patients."
   ]
  },
  {
   "cell_type": "code",
   "execution_count": 24,
   "metadata": {},
   "outputs": [
    {
     "data": {
      "text/plain": [
       "No     88193\n",
       "Yes    22310\n",
       "Name: No_show, dtype: int64"
      ]
     },
     "execution_count": 24,
     "metadata": {},
     "output_type": "execute_result"
    }
   ],
   "source": [
    "# count number of patients shown or not their appointments:\n",
    "df['No_show'].value_counts()"
   ]
  },
  {
   "cell_type": "code",
   "execution_count": 25,
   "metadata": {},
   "outputs": [],
   "source": [
    "# define the percentage function, total here is the number of rows\n",
    "def percentage(number, total):\n",
    "    return number / total"
   ]
  },
  {
   "cell_type": "code",
   "execution_count": 26,
   "metadata": {},
   "outputs": [
    {
     "name": "stdout",
     "output_type": "stream",
     "text": [
      "0.2018858363195425\n"
     ]
    }
   ],
   "source": [
    "# calculate the percentage of patients did not presented\n",
    "df_nshow = df[df.No_show == 'Yes']\n",
    "number_noshow = df_nshow['No_show'].count()\n",
    "per_noshow = percentage(number_noshow, total = 110508)\n",
    "print(per_noshow)"
   ]
  },
  {
   "cell_type": "code",
   "execution_count": 27,
   "metadata": {},
   "outputs": [
    {
     "name": "stdout",
     "output_type": "stream",
     "text": [
      "0.7980689180873783\n"
     ]
    }
   ],
   "source": [
    "# calculate the percentage of patients who presented\n",
    "df_show = df[df['No_show'] == 'No']\n",
    "number_show = df_show['No_show'].count()\n",
    "per_show = percentage(number_show, total = 110508)\n",
    "print(per_show)"
   ]
  },
  {
   "cell_type": "markdown",
   "metadata": {},
   "source": [
    "#### <span style=\"color:blue\">*Figure: Percentage of present patients* </span>"
   ]
  },
  {
   "cell_type": "code",
   "execution_count": 28,
   "metadata": {},
   "outputs": [
    {
     "data": {
      "image/png": "[encoded data removed]",
      "text/plain": [
       "<matplotlib.figure.Figure at 0x1183cb940>"
      ]
     },
     "metadata": {},
     "output_type": "display_data"
    }
   ],
   "source": [
    "# draw a pie graph to show the percentage of the patients presented or not\n",
    "sizes = np.array([per_noshow, per_show])\n",
    "labels = 'No_shown', 'Shown'\n",
    "colors = [\"lightskyblue\", \"gold\"]\n",
    "explode = [0.2, 0]\n",
    "plt.pie(sizes, labels = labels, colors = colors, explode = explode, shadow = True, autopct = '%.2f%%', radius = 1.5)\n",
    "plt.title('Percentage of present patients', fontsize = 17, loc = 'center', color = 'k')\n",
    "plt.axis('equal') # equal aspect ratio to ensure that pie is drawn as a circle\n",
    "plt.show()"
   ]
  },
  {
   "cell_type": "markdown",
   "metadata": {},
   "source": [
    "> From the chart, we notice that there is 20.19% of patients who have not shown up during their scheduled meical appointments."
   ]
  },
  {
   "cell_type": "markdown",
   "metadata": {},
   "source": [
    "<a id='Q2'></a>\n",
    "### Research Question 2: the percentage of no-shown-up patients with scheduled appointment by gender."
   ]
  },
  {
   "cell_type": "markdown",
   "metadata": {},
   "source": [
    "Is there more female patients absented their medical appointments than male? In this section, we are going to investigate the gender factor.\n",
    "We compared at first if there are more appointments scheduled for woman than man, and then compared the absence percentage for each gender."
   ]
  },
  {
   "cell_type": "code",
   "execution_count": 29,
   "metadata": {},
   "outputs": [
    {
     "data": {
      "text/plain": [
       "Gender  No_show\n",
       "F       No         57234\n",
       "        Yes        14587\n",
       "M       No         30959\n",
       "        Yes         7723\n",
       "Name: No_show, dtype: int64"
      ]
     },
     "execution_count": 29,
     "metadata": {},
     "output_type": "execute_result"
    }
   ],
   "source": [
    "# count number of shown and non-shown patients by gender\n",
    "df_g = df['No_show'].groupby(df['Gender']).value_counts()\n",
    "# display the result\n",
    "df_g"
   ]
  },
  {
   "cell_type": "markdown",
   "metadata": {},
   "source": [
    "#### <span style=\"color:blue\">*Figure: Number of shown-up or not patients with scheduled appointment by gender* </span>"
   ]
  },
  {
   "cell_type": "code",
   "execution_count": 30,
   "metadata": {},
   "outputs": [
    {
     "data": {
      "text/plain": [
       "Text(0,0.5,'Number of patient')"
      ]
     },
     "execution_count": 30,
     "metadata": {},
     "output_type": "execute_result"
    },
    {
     "data": {
      "image/png": "[encoded data removed]",
      "text/plain": [
       "<matplotlib.figure.Figure at 0x1a2032a278>"
      ]
     },
     "metadata": {},
     "output_type": "display_data"
    }
   ],
   "source": [
    "df_g.plot(x=['No_shown', 'Shown'], y=['No', 'Yes'], kind ='bar', title = 'Number of shown-up or not patients with scheduled appointment by gender')\n",
    "plt.ylabel('Number of patient')"
   ]
  },
  {
   "cell_type": "code",
   "execution_count": 31,
   "metadata": {},
   "outputs": [
    {
     "name": "stdout",
     "output_type": "stream",
     "text": [
      "0.20310215675081103 0.796897843249189\n"
     ]
    }
   ],
   "source": [
    "# calculate total female patients\n",
    "df_f = df[df['Gender'] == 'F']\n",
    "total_f = df_f['Gender'].count()\n",
    "# calculate percentage of female patients no-shown-up and shown-up\n",
    "df_fns = df_f[df_f.No_show == 'Yes']\n",
    "number_fns = df_fns.No_show.count()\n",
    "per_fns = percentage(number_fns, total_f) #percentage of female no-shown-up\n",
    "per_fs = 1-per_fns #percentage of female shown-up\n",
    "print(per_fns, per_fs)"
   ]
  },
  {
   "cell_type": "code",
   "execution_count": 32,
   "metadata": {},
   "outputs": [
    {
     "name": "stdout",
     "output_type": "stream",
     "text": [
      "0.199653585647071 0.800346414352929\n"
     ]
    }
   ],
   "source": [
    "# calculate total male patients\n",
    "df_m = df[df['Gender'] == 'M']\n",
    "total_m = df_m['Gender'].count()\n",
    "# calculate percentage of male patients no-shown-up and shown-up\n",
    "df_mns = df_m[df_m.No_show == 'Yes']\n",
    "number_mns = df_mns.No_show.count()\n",
    "per_mns = percentage(number_mns, total_m) #percentage of female no-shown-up\n",
    "per_ms = 1-per_mns #percentage of female shown-up\n",
    "print(per_mns, per_ms)"
   ]
  },
  {
   "cell_type": "markdown",
   "metadata": {},
   "source": [
    "#### <span style=\"color:blue\">*Figure: Percentage by presence and gender* </span>"
   ]
  },
  {
   "cell_type": "code",
   "execution_count": 33,
   "metadata": {},
   "outputs": [
    {
     "data": {
      "image/png": "[encoded data removed]",
      "text/plain": [
       "<matplotlib.figure.Figure at 0x1a202620b8>"
      ]
     },
     "metadata": {},
     "output_type": "display_data"
    }
   ],
   "source": [
    "f = (round(per_fns*100,2), round(per_fs*100,2))\n",
    "m = (round(per_mns*100,2), round(per_ms*100,2))\n",
    "ind = np.arange(len(m))\n",
    "width = 0.25\n",
    "\n",
    "fig,ax = plt.subplots()\n",
    "rects1 = ax.bar(ind - width/2, m, width,\n",
    "                color='SkyBlue', label='Male')\n",
    "rects2 = ax.bar(ind + width/2, f, width,\n",
    "                color='IndianRed', label='Female')\n",
    "\n",
    "ax.set_ylabel('Percentage')\n",
    "ax.set_title('Percentage by presence and gender', fontsize = 14)\n",
    "ax.set_xticks(ind)\n",
    "ax.set_xticklabels(('No_shown', 'Shown'))\n",
    "ax.legend()\n",
    "\n",
    "def autolabel(rects, xpos='center'):\n",
    "\n",
    "    xpos = xpos.lower()  # normalize the case of the parameter\n",
    "    ha = {'center': 'center', 'right': 'left', 'left': 'right'}\n",
    "    offset = {'center': 0.5, 'right': 0.57, 'left': 0.43}  # x_txt = x + w*off\n",
    "\n",
    "    for rect in rects:\n",
    "        height = rect.get_height()\n",
    "        ax.text(rect.get_x() + rect.get_width()*offset[xpos], 1.01*height,\n",
    "                '{}'.format(height), ha=ha[xpos], va='bottom')\n",
    "\n",
    "autolabel(rects1, \"left\")\n",
    "autolabel(rects2, \"right\")\n",
    "plt.show()"
   ]
  },
  {
   "cell_type": "markdown",
   "metadata": {},
   "source": [
    "#### <span style=\"color:blue\">*Figure: Percentage of female patients presented or not* </span>"
   ]
  },
  {
   "cell_type": "code",
   "execution_count": 34,
   "metadata": {},
   "outputs": [
    {
     "data": {
      "image/png": "[encoded data removed]",
      "text/plain": [
       "<matplotlib.figure.Figure at 0x1a20224080>"
      ]
     },
     "metadata": {},
     "output_type": "display_data"
    }
   ],
   "source": [
    "sizes = np.array([per_fns, per_fs])\n",
    "labels = 'No_shown', 'Shown'\n",
    "colors = [\"Blue\", \"Pink\"]\n",
    "explode = [0.2, 0]\n",
    "plt.pie(sizes, labels = labels, colors = colors, explode = explode, shadow = True, autopct = '%.2f%%', radius = 0.8)\n",
    "plt.title('Percentage of female patients presented or not', fontsize = 17, loc = 'center', color = 'k')\n",
    "plt.show()"
   ]
  },
  {
   "cell_type": "markdown",
   "metadata": {},
   "source": [
    "#### <span style=\"color:blue\">*Figure: Percentage of male patients presented or not* </span>"
   ]
  },
  {
   "cell_type": "code",
   "execution_count": 35,
   "metadata": {},
   "outputs": [
    {
     "data": {
      "image/png": "[encoded data removed]",
      "text/plain": [
       "<matplotlib.figure.Figure at 0x1a201afac8>"
      ]
     },
     "metadata": {},
     "output_type": "display_data"
    }
   ],
   "source": [
    "sizes = np.array([per_mns, per_ms])\n",
    "labels = 'No_shown', 'Shown'\n",
    "colors = [\"Lightgreen\", \"Orange\"]\n",
    "explode = [0.2, 0]\n",
    "plt.pie(sizes, labels = labels, colors = colors, explode = explode, shadow = True, autopct = '%.2f%%', radius = 0.8)\n",
    "plt.title('Percentage of male patients presented or not', fontsize = 17, loc = 'center', color = 'k')\n",
    "plt.show()"
   ]
  },
  {
   "cell_type": "markdown",
   "metadata": {},
   "source": [
    "> **Gender**: Around 20% patients with scheduled appoinment have not attended, with a quasi-equal percentage between femal (20.31%) and male patients (19.97%). \n",
    "However, we can see that women care more their health than men, almost double women made medical appointments more than men."
   ]
  },
  {
   "cell_type": "markdown",
   "metadata": {},
   "source": [
    "<a id='Q3'></a>\n",
    "#### Research Question 3: the percentage of no-shown-up patients with scheduled appointment by day of week."
   ]
  },
  {
   "cell_type": "markdown",
   "metadata": {},
   "source": [
    "Here, we are interestig in on which day, there are the most appointments made? Among different weekdays, is there a preference for the patients' attendance?  "
   ]
  },
  {
   "cell_type": "code",
   "execution_count": 36,
   "metadata": {},
   "outputs": [
    {
     "data": {
      "text/plain": [
       "2    25864\n",
       "1    25635\n",
       "0    22710\n",
       "4    19013\n",
       "3    17242\n",
       "5       39\n",
       "Name: Weekday, dtype: int64"
      ]
     },
     "execution_count": 36,
     "metadata": {},
     "output_type": "execute_result"
    }
   ],
   "source": [
    "# count numbers of appointments by weekday\n",
    "df['Weekday'].value_counts()"
   ]
  },
  {
   "cell_type": "code",
   "execution_count": 37,
   "metadata": {},
   "outputs": [
    {
     "data": {
      "text/plain": [
       "2    0.234057\n",
       "1    0.231985\n",
       "0    0.205515\n",
       "4    0.172059\n",
       "3    0.156032\n",
       "5    0.000353\n",
       "Name: Weekday, dtype: float64"
      ]
     },
     "execution_count": 37,
     "metadata": {},
     "output_type": "execute_result"
    }
   ],
   "source": [
    "# calculate the percentage of appointments on each weekday\n",
    "per_weekday = df['Weekday'].value_counts() / len(df['Weekday'])\n",
    "per_weekday"
   ]
  },
  {
   "cell_type": "markdown",
   "metadata": {},
   "source": [
    "#### <span style=\"color:blue\">*Figure: Percentage of appointment by weekday* </span>"
   ]
  },
  {
   "cell_type": "code",
   "execution_count": 38,
   "metadata": {},
   "outputs": [
    {
     "data": {
      "image/png": "[encoded data removed]",
      "text/plain": [
       "<matplotlib.figure.Figure at 0x1a23494198>"
      ]
     },
     "metadata": {},
     "output_type": "display_data"
    }
   ],
   "source": [
    "sizes = np.array(per_weekday)\n",
    "labels = '0', '1', '2', '3', '4','5'\n",
    "colors = [\"LightBlue\", \"Pink\", 'LightGreen', 'Yellow', 'lightgrey', 'indianred']\n",
    "explode = [0, 0, 0, 0, 0, 0]\n",
    "plt.pie(sizes, labels = labels, colors = colors, explode = explode, shadow = True, autopct = '%.2f%%', radius = 0.8)\n",
    "plt.title('Percentage of appointment by weekday')\n",
    "plt.axis('equal')\n",
    "plt.show()"
   ]
  },
  {
   "cell_type": "markdown",
   "metadata": {},
   "source": [
    "> We realised that the majority of the appointment days are concentrated on Tuesday (1) and Wednesday (0). There are very few appointments made on Saturday (5) and no appointment on Sunday (6)."
   ]
  },
  {
   "cell_type": "code",
   "execution_count": 39,
   "metadata": {},
   "outputs": [
    {
     "data": {
      "text/plain": [
       "Weekday  No_show\n",
       "0        No         18022\n",
       "         Yes         4688\n",
       "1        No         20485\n",
       "         Yes         5150\n",
       "2        No         20772\n",
       "         Yes         5092\n",
       "3        No         13907\n",
       "         Yes         3335\n",
       "4        No         14977\n",
       "         Yes         4036\n",
       "5        No            30\n",
       "         Yes            9\n",
       "Name: No_show, dtype: int64"
      ]
     },
     "execution_count": 39,
     "metadata": {},
     "output_type": "execute_result"
    }
   ],
   "source": [
    "# count numbers of appointments shown and non-shown by different weekdays\n",
    "df['No_show'].groupby(df['Weekday']).value_counts()"
   ]
  },
  {
   "cell_type": "code",
   "execution_count": 40,
   "metadata": {},
   "outputs": [
    {
     "data": {
      "text/plain": [
       "Weekday\n",
       "0    22710\n",
       "1    25635\n",
       "2    25864\n",
       "3    17242\n",
       "4    19013\n",
       "5       39\n",
       "Name: No_show, dtype: int64"
      ]
     },
     "execution_count": 40,
     "metadata": {},
     "output_type": "execute_result"
    }
   ],
   "source": [
    "# count the total number of patients by different weekdays\n",
    "df_wd = df.groupby(df['Weekday']).count()\n",
    "df_wd['No_show']"
   ]
  },
  {
   "cell_type": "code",
   "execution_count": 41,
   "metadata": {},
   "outputs": [
    {
     "data": {
      "text/plain": [
       "Weekday\n",
       "0    18022\n",
       "1    20485\n",
       "2    20772\n",
       "3    13907\n",
       "4    14977\n",
       "5       30\n",
       "Name: No_show, dtype: int64"
      ]
     },
     "execution_count": 41,
     "metadata": {},
     "output_type": "execute_result"
    }
   ],
   "source": [
    "# count the number of shown-up patients by different weekdays\n",
    "df_wd_show = df_show.groupby(df['Weekday']).count()\n",
    "df_wd_show['No_show']"
   ]
  },
  {
   "cell_type": "code",
   "execution_count": 42,
   "metadata": {},
   "outputs": [
    {
     "data": {
      "text/plain": [
       "Weekday\n",
       "0    0.793571\n",
       "1    0.799103\n",
       "2    0.803124\n",
       "3    0.806577\n",
       "4    0.787724\n",
       "5    0.769231\n",
       "Name: No_show, dtype: float64"
      ]
     },
     "execution_count": 42,
     "metadata": {},
     "output_type": "execute_result"
    }
   ],
   "source": [
    "# calculate the percentage of shown-up appointments for each weekday\n",
    "df_wd_p = df_wd_show['No_show']/df_wd['No_show']\n",
    "df_wd_p"
   ]
  },
  {
   "cell_type": "markdown",
   "metadata": {},
   "source": [
    "#### <span style=\"color:blue\">*Figure: Attendance percentage by day of week* </span>"
   ]
  },
  {
   "cell_type": "code",
   "execution_count": 43,
   "metadata": {},
   "outputs": [
    {
     "data": {
      "text/plain": [
       "Text(0,0.5,'Attendance percentage')"
      ]
     },
     "execution_count": 43,
     "metadata": {},
     "output_type": "execute_result"
    },
    {
     "data": {
      "image/png": "[encoded data removed]",
      "text/plain": [
       "<matplotlib.figure.Figure at 0x1a2afb5a20>"
      ]
     },
     "metadata": {},
     "output_type": "display_data"
    }
   ],
   "source": [
    "plt.plot(df_wd_p.index, df_wd_p, linewidth=4);\n",
    "plt.title('Attendance percentage by day of week')\n",
    "plt.ylim(ymin=0, ymax=1)\n",
    "plt.xlabel('Day of week: 0-Monday, 5-Saturday')\n",
    "plt.ylabel('Attendance percentage')"
   ]
  },
  {
   "cell_type": "markdown",
   "metadata": {},
   "source": [
    "> From this gragh, we can see that patients present more on Wednesday and Thursday.\n",
    "However, the difference of attendance percetage between different weekdays is very small."
   ]
  },
  {
   "cell_type": "markdown",
   "metadata": {},
   "source": [
    "<a id='Q4'></a>\n",
    "#### Research Question 4: does the duration between appointment and scheduled day will change patients' minds for their attendances?"
   ]
  },
  {
   "cell_type": "markdown",
   "metadata": {},
   "source": [
    "Normally, longer we wait, more chance we miss the appointments.\n",
    "In this section, we will verify if there is a positive or negative correlation between the probability of patients' attendance and the period that they waited.\n",
    "We also like to understand, on general, how long the patients would wait for in this public hospital."
   ]
  },
  {
   "cell_type": "code",
   "execution_count": 44,
   "metadata": {},
   "outputs": [
    {
     "data": {
      "text/plain": [
       "count    110503.000000\n",
       "mean         10.183461\n",
       "std          15.253748\n",
       "min           0.000000\n",
       "25%           0.000000\n",
       "50%           4.000000\n",
       "75%          15.000000\n",
       "max         179.000000\n",
       "Name: Duration, dtype: float64"
      ]
     },
     "execution_count": 44,
     "metadata": {},
     "output_type": "execute_result"
    }
   ],
   "source": [
    "# describe the center and the shape of the dataset for duration\n",
    "df.Duration.describe()"
   ]
  },
  {
   "cell_type": "markdown",
   "metadata": {},
   "source": [
    "#### <span style=\"color:blue\">*Figure: Number of patients by duration between scheduled and appointment day* </span>"
   ]
  },
  {
   "cell_type": "code",
   "execution_count": 45,
   "metadata": {},
   "outputs": [
    {
     "data": {
      "text/plain": [
       "Text(0,0.5,'Number of patients')"
      ]
     },
     "execution_count": 45,
     "metadata": {},
     "output_type": "execute_result"
    },
    {
     "data": {
      "image/png": "[encoded data removed]",
      "text/plain": [
       "<matplotlib.figure.Figure at 0x1a23486e48>"
      ]
     },
     "metadata": {},
     "output_type": "display_data"
    }
   ],
   "source": [
    "df.Duration.hist(bins =50, figsize = (9, 6));\n",
    "plt.title('Number of patients by duration between scheduled and appointment day')\n",
    "plt.xlabel('Duration')\n",
    "plt.ylabel('Number of patients')"
   ]
  },
  {
   "cell_type": "code",
   "execution_count": 46,
   "metadata": {},
   "outputs": [
    {
     "data": {
      "text/plain": [
       "(110503, 3)"
      ]
     },
     "execution_count": 46,
     "metadata": {},
     "output_type": "execute_result"
    }
   ],
   "source": [
    "# convert days into 4 stages and creat a new dataframe with columns in need.\n",
    "bin_edges = [-0.1, 0.1, 4, 15, 179]\n",
    "bin_names = [\"Sameday\", \"2-4Days\", \"5-15Days\", \">15Days\"]\n",
    "df['Days_stage'] = pd.cut(df['Duration'], bin_edges, labels = bin_names)\n",
    "df_d = pd.concat([df.Duration, df.Days_stage, df.No_show], axis =1)\n",
    "df_d.shape"
   ]
  },
  {
   "cell_type": "markdown",
   "metadata": {},
   "source": [
    "#### *Calculate the percentage of each duration*"
   ]
  },
  {
   "cell_type": "code",
   "execution_count": 47,
   "metadata": {},
   "outputs": [
    {
     "data": {
      "text/plain": [
       "Days_stage\n",
       "Sameday     38558\n",
       "2-4Days     19960\n",
       "5-15Days    25745\n",
       ">15Days     26240\n",
       "Name: No_show, dtype: int64"
      ]
     },
     "execution_count": 47,
     "metadata": {},
     "output_type": "execute_result"
    }
   ],
   "source": [
    "# calculate the number of total patients by duration group\n",
    "df_d_g = df_d.groupby('Days_stage')['No_show'].count()\n",
    "df_d_g"
   ]
  },
  {
   "cell_type": "code",
   "execution_count": 48,
   "metadata": {},
   "outputs": [
    {
     "data": {
      "text/plain": [
       "Days_stage\n",
       "Sameday     0.348932\n",
       "2-4Days     0.180629\n",
       "5-15Days    0.232980\n",
       ">15Days     0.237460\n",
       "Name: No_show, dtype: float64"
      ]
     },
     "execution_count": 48,
     "metadata": {},
     "output_type": "execute_result"
    }
   ],
   "source": [
    "# calculate the percentge of each duration group\n",
    "per_dg = df_d_g / df_d['No_show'].count()\n",
    "per_dg"
   ]
  },
  {
   "cell_type": "markdown",
   "metadata": {},
   "source": [
    "#### <span style=\"color:blue\">*Figure: Percentage of different durations between scheduled and appointment day* </span>"
   ]
  },
  {
   "cell_type": "code",
   "execution_count": 49,
   "metadata": {},
   "outputs": [
    {
     "data": {
      "image/png": "[encoded data removed]",
      "text/plain": [
       "<matplotlib.figure.Figure at 0x1a2b96fe80>"
      ]
     },
     "metadata": {},
     "output_type": "display_data"
    }
   ],
   "source": [
    "sizes = np.array(per_dg)\n",
    "labels = 'SameDay', '2-4Days', '5-15Days', '>15Days'\n",
    "colors = [\"LightBlue\", \"Pink\", 'LightGreen', 'Yellow']\n",
    "explode = [0.2, 0, 0, 0]\n",
    "plt.pie(sizes, labels = labels, colors = colors, explode = explode, shadow = True, autopct = '%.2f%%', radius = 0.8)\n",
    "plt.title('Percentage of different durations between scheduled and appointment day')\n",
    "plt.show()"
   ]
  },
  {
   "cell_type": "markdown",
   "metadata": {},
   "source": [
    "##### Calculate the percentage of attendance by days between scheduled and appointment days"
   ]
  },
  {
   "cell_type": "code",
   "execution_count": 50,
   "metadata": {},
   "outputs": [
    {
     "data": {
      "text/html": [
       "<div>\n",
       "<style scoped>\n",
       "    .dataframe tbody tr th:only-of-type {\n",
       "        vertical-align: middle;\n",
       "    }\n",
       "\n",
       "    .dataframe tbody tr th {\n",
       "        vertical-align: top;\n",
       "    }\n",
       "\n",
       "    .dataframe thead th {\n",
       "        text-align: right;\n",
       "    }\n",
       "</style>\n",
       "<table border=\"1\" class=\"dataframe\">\n",
       "  <thead>\n",
       "    <tr style=\"text-align: right;\">\n",
       "      <th></th>\n",
       "      <th></th>\n",
       "      <th>Duration</th>\n",
       "    </tr>\n",
       "    <tr>\n",
       "      <th>Days_stage</th>\n",
       "      <th>No_show</th>\n",
       "      <th></th>\n",
       "    </tr>\n",
       "  </thead>\n",
       "  <tbody>\n",
       "    <tr>\n",
       "      <th rowspan=\"2\" valign=\"top\">Sameday</th>\n",
       "      <th>No</th>\n",
       "      <td>36766</td>\n",
       "    </tr>\n",
       "    <tr>\n",
       "      <th>Yes</th>\n",
       "      <td>1792</td>\n",
       "    </tr>\n",
       "    <tr>\n",
       "      <th rowspan=\"2\" valign=\"top\">2-4Days</th>\n",
       "      <th>No</th>\n",
       "      <td>15372</td>\n",
       "    </tr>\n",
       "    <tr>\n",
       "      <th>Yes</th>\n",
       "      <td>4588</td>\n",
       "    </tr>\n",
       "    <tr>\n",
       "      <th rowspan=\"2\" valign=\"top\">5-15Days</th>\n",
       "      <th>No</th>\n",
       "      <td>18398</td>\n",
       "    </tr>\n",
       "    <tr>\n",
       "      <th>Yes</th>\n",
       "      <td>7347</td>\n",
       "    </tr>\n",
       "    <tr>\n",
       "      <th rowspan=\"2\" valign=\"top\">&gt;15Days</th>\n",
       "      <th>No</th>\n",
       "      <td>17657</td>\n",
       "    </tr>\n",
       "    <tr>\n",
       "      <th>Yes</th>\n",
       "      <td>8583</td>\n",
       "    </tr>\n",
       "  </tbody>\n",
       "</table>\n",
       "</div>"
      ],
      "text/plain": [
       "                    Duration\n",
       "Days_stage No_show          \n",
       "Sameday    No          36766\n",
       "           Yes          1792\n",
       "2-4Days    No          15372\n",
       "           Yes          4588\n",
       "5-15Days   No          18398\n",
       "           Yes          7347\n",
       ">15Days    No          17657\n",
       "           Yes          8583"
      ]
     },
     "execution_count": 50,
     "metadata": {},
     "output_type": "execute_result"
    }
   ],
   "source": [
    "# global idea about the number of sample in each duration group\n",
    "df_d.groupby(['Days_stage', 'No_show']).count()"
   ]
  },
  {
   "cell_type": "code",
   "execution_count": 51,
   "metadata": {},
   "outputs": [],
   "source": [
    "# calculate the number of shown-up patients by duration group\n",
    "df_d_sh = df_d[df.No_show == 'No'].groupby('Days_stage')['No_show'].count()"
   ]
  },
  {
   "cell_type": "code",
   "execution_count": 52,
   "metadata": {},
   "outputs": [],
   "source": [
    "# calculate the number of total patients by duration group\n",
    "df_d_total = df_d.groupby('Days_stage')['No_show'].count()"
   ]
  },
  {
   "cell_type": "code",
   "execution_count": 53,
   "metadata": {},
   "outputs": [
    {
     "data": {
      "text/plain": [
       "Days_stage\n",
       "Sameday     0.953525\n",
       "2-4Days     0.770140\n",
       "5-15Days    0.714624\n",
       ">15Days     0.672904\n",
       "Name: No_show, dtype: float64"
      ]
     },
     "execution_count": 53,
     "metadata": {},
     "output_type": "execute_result"
    }
   ],
   "source": [
    "# calculate the percentage of shown_up patients for each duration group\n",
    "per_d_sh = df_d_sh / df_d_total\n",
    "per_d_sh"
   ]
  },
  {
   "cell_type": "markdown",
   "metadata": {},
   "source": [
    "#### <span style=\"color:blue\">*Figure: Percentage of different durations between scheduled and appointment day* </span>"
   ]
  },
  {
   "cell_type": "code",
   "execution_count": 54,
   "metadata": {},
   "outputs": [
    {
     "data": {
      "text/plain": [
       "Text(0.5,1,'Attendance percentage of duration between scheduled and appointment day')"
      ]
     },
     "execution_count": 54,
     "metadata": {},
     "output_type": "execute_result"
    },
    {
     "data": {
      "image/png": "[encoded data removed]",
      "text/plain": [
       "<matplotlib.figure.Figure at 0x1a2bb05ac8>"
      ]
     },
     "metadata": {},
     "output_type": "display_data"
    }
   ],
   "source": [
    "plt.bar(per_d_sh.index, per_d_sh, color = 'gold')\n",
    "plt.xlabel('Duration between scheduled and appointment day')\n",
    "plt.ylabel('Attendance percentage')\n",
    "plt.title('Attendance percentage of duration between scheduled and appointment day', size = 14)"
   ]
  },
  {
   "cell_type": "markdown",
   "metadata": {},
   "source": [
    "> We could see that:\n",
    "> - around 35% apppointments are made for the same day and the percentage of attendance is over 95%.\n",
    "> - more days between scheduled days and appointment days that patients should wait for, less patients will show up for the medical appointments: the attendance for duration of 5-15 days and of over 15 daysonly are only 71.5% and 67.3% of  respectively.\n",
    "> - around one-fourth appointment days are made for 15 days after, this is a point should be consider to ameliorate."
   ]
  },
  {
   "cell_type": "markdown",
   "metadata": {},
   "source": [
    "<a id='Q5'></a>\n",
    "#### Research Question 5: people of which age stage maybe not show up their medical appointments."
   ]
  },
  {
   "cell_type": "markdown",
   "metadata": {},
   "source": [
    "The attendance may depend on age as well. Older people have more free time, while younger are sometimes busier. However, is it a key factior affecting the attendance in this hospital? Let's study."
   ]
  },
  {
   "cell_type": "code",
   "execution_count": 55,
   "metadata": {},
   "outputs": [
    {
     "data": {
      "text/plain": [
       "count    110503.000000\n",
       "mean         37.078541\n",
       "std          23.095959\n",
       "min           0.000000\n",
       "25%          18.000000\n",
       "50%          37.000000\n",
       "75%          55.000000\n",
       "max          97.000000\n",
       "Name: Age, dtype: float64"
      ]
     },
     "execution_count": 55,
     "metadata": {},
     "output_type": "execute_result"
    }
   ],
   "source": [
    "# describe the center and the shape of the dataset for age\n",
    "df.Age.describe()"
   ]
  },
  {
   "cell_type": "code",
   "execution_count": 56,
   "metadata": {},
   "outputs": [
    {
     "data": {
      "text/plain": [
       "(110503, 19)"
      ]
     },
     "execution_count": 56,
     "metadata": {},
     "output_type": "execute_result"
    }
   ],
   "source": [
    "# convert ages into 4 stages and creat a new age stage column.\n",
    "bin_edges = [-0.1, 18, 37, 55, 97]\n",
    "bin_names = [\"Young\", \"Junior\", \"Senior\", \"Old\"]\n",
    "df['Age_stage'] = pd.cut(df['Age'], bin_edges, labels = bin_names)\n",
    "df_a = pd.concat([df,df.Age_stage], axis =1)\n",
    "df_a.shape"
   ]
  },
  {
   "cell_type": "code",
   "execution_count": 57,
   "metadata": {},
   "outputs": [
    {
     "data": {
      "text/plain": [
       "Age_stage\n",
       "Young     28865\n",
       "Junior    27248\n",
       "Senior    26905\n",
       "Old       27485\n",
       "Name: No_show, dtype: int64"
      ]
     },
     "execution_count": 57,
     "metadata": {},
     "output_type": "execute_result"
    }
   ],
   "source": [
    "# count the number of patient by age stage group\n",
    "df_as = df.groupby(df.Age_stage).count()\n",
    "df_as['No_show']"
   ]
  },
  {
   "cell_type": "code",
   "execution_count": 58,
   "metadata": {},
   "outputs": [
    {
     "data": {
      "text/plain": [
       "Age_stage\n",
       "Young     22519\n",
       "Junior    20836\n",
       "Senior    21651\n",
       "Old       23187\n",
       "Name: No_show, dtype: int64"
      ]
     },
     "execution_count": 58,
     "metadata": {},
     "output_type": "execute_result"
    }
   ],
   "source": [
    "# count the number of shown-up patients by age stage\n",
    "df_as_show = df[df.No_show == 'No'].groupby('Age_stage').count()\n",
    "df_as_show['No_show']"
   ]
  },
  {
   "cell_type": "code",
   "execution_count": 59,
   "metadata": {},
   "outputs": [
    {
     "data": {
      "text/plain": [
       "Age_stage\n",
       "Young     0.780149\n",
       "Junior    0.764680\n",
       "Senior    0.804720\n",
       "Old       0.843624\n",
       "Name: No_show, dtype: float64"
      ]
     },
     "execution_count": 59,
     "metadata": {},
     "output_type": "execute_result"
    }
   ],
   "source": [
    "# calculat the percentage of shown-up patients in different age stage groups\n",
    "df_as_p = df_as_show['No_show'] / df_as['No_show']\n",
    "df_as_p"
   ]
  },
  {
   "cell_type": "markdown",
   "metadata": {},
   "source": [
    "#### <span style=\"color:blue\">*Figure: Attendance percentage by age stage* </span>"
   ]
  },
  {
   "cell_type": "code",
   "execution_count": 60,
   "metadata": {},
   "outputs": [
    {
     "data": {
      "text/plain": [
       "Text(0.5,1,'Attendance percentage by age stage')"
      ]
     },
     "execution_count": 60,
     "metadata": {},
     "output_type": "execute_result"
    },
    {
     "data": {
      "image/png": "[encoded data removed]",
      "text/plain": [
       "<matplotlib.figure.Figure at 0x1a2afc17b8>"
      ]
     },
     "metadata": {},
     "output_type": "display_data"
    }
   ],
   "source": [
    "color = ['lightblue', 'blue', 'pink', 'lightgrey']\n",
    "df_as_p.plot(x=[df_as_p.index], y=[df_as_p], kind ='bar', color = color)\n",
    "plt.xlabel('Age stage')\n",
    "plt.ylabel('Attendance percentage')\n",
    "plt.title('Attendance percentage by age stage')"
   ]
  },
  {
   "cell_type": "markdown",
   "metadata": {},
   "source": [
    "> **Age**: Among 110508 samples collected, the number that people having made appointments are very similar in four different age stages. \n",
    "> However, junior and young people with ages respectively between 18-37 and under 18 years-old seem being absent their medical appointments more than senoir and old groups. This is maybe due to :\n",
    "> - lack of time for the reasons such as study or work;\n",
    "> - quicker self-recovery of younger people than older one."
   ]
  },
  {
   "cell_type": "markdown",
   "metadata": {},
   "source": [
    "#### *The age distribution of no-shown-up patients by gender*"
   ]
  },
  {
   "cell_type": "code",
   "execution_count": 61,
   "metadata": {},
   "outputs": [
    {
     "data": {
      "text/html": [
       "<div>\n",
       "<style scoped>\n",
       "    .dataframe tbody tr th:only-of-type {\n",
       "        vertical-align: middle;\n",
       "    }\n",
       "\n",
       "    .dataframe tbody tr th {\n",
       "        vertical-align: top;\n",
       "    }\n",
       "\n",
       "    .dataframe thead th {\n",
       "        text-align: right;\n",
       "    }\n",
       "</style>\n",
       "<table border=\"1\" class=\"dataframe\">\n",
       "  <thead>\n",
       "    <tr style=\"text-align: right;\">\n",
       "      <th></th>\n",
       "      <th>count</th>\n",
       "      <th>mean</th>\n",
       "      <th>std</th>\n",
       "      <th>min</th>\n",
       "      <th>25%</th>\n",
       "      <th>50%</th>\n",
       "      <th>75%</th>\n",
       "      <th>max</th>\n",
       "    </tr>\n",
       "    <tr>\n",
       "      <th>Gender</th>\n",
       "      <th></th>\n",
       "      <th></th>\n",
       "      <th></th>\n",
       "      <th></th>\n",
       "      <th></th>\n",
       "      <th></th>\n",
       "      <th></th>\n",
       "      <th></th>\n",
       "    </tr>\n",
       "  </thead>\n",
       "  <tbody>\n",
       "    <tr>\n",
       "      <th>F</th>\n",
       "      <td>14587.0</td>\n",
       "      <td>36.140810</td>\n",
       "      <td>21.148838</td>\n",
       "      <td>0.0</td>\n",
       "      <td>20.0</td>\n",
       "      <td>34.0</td>\n",
       "      <td>52.0</td>\n",
       "      <td>97.0</td>\n",
       "    </tr>\n",
       "    <tr>\n",
       "      <th>M</th>\n",
       "      <td>7723.0</td>\n",
       "      <td>30.835168</td>\n",
       "      <td>22.973429</td>\n",
       "      <td>0.0</td>\n",
       "      <td>10.0</td>\n",
       "      <td>28.0</td>\n",
       "      <td>49.0</td>\n",
       "      <td>97.0</td>\n",
       "    </tr>\n",
       "  </tbody>\n",
       "</table>\n",
       "</div>"
      ],
      "text/plain": [
       "          count       mean        std  min   25%   50%   75%   max\n",
       "Gender                                                            \n",
       "F       14587.0  36.140810  21.148838  0.0  20.0  34.0  52.0  97.0\n",
       "M        7723.0  30.835168  22.973429  0.0  10.0  28.0  49.0  97.0"
      ]
     },
     "execution_count": 61,
     "metadata": {},
     "output_type": "execute_result"
    }
   ],
   "source": [
    "# describe the center and the shape of the dataset for age by gender\n",
    "\n",
    "df[df.No_show == 'Yes'].groupby(['Gender'], as_index = True)['Age'].describe()"
   ]
  },
  {
   "cell_type": "markdown",
   "metadata": {},
   "source": [
    "#### <span style=\"color:blue\">*Figure: Age distribution of no-shown-up patients by gender* </span>"
   ]
  },
  {
   "cell_type": "code",
   "execution_count": 62,
   "metadata": {},
   "outputs": [
    {
     "data": {
      "text/plain": [
       "Text(0,0.5,'Number of absence')"
      ]
     },
     "execution_count": 62,
     "metadata": {},
     "output_type": "execute_result"
    },
    {
     "data": {
      "image/png": "[encoded data removed]",
      "text/plain": [
       "<matplotlib.figure.Figure at 0x1a2e027f60>"
      ]
     },
     "metadata": {},
     "output_type": "display_data"
    }
   ],
   "source": [
    "df[df.No_show == 'Yes'].groupby(['Gender'])['Age'].hist();\n",
    "plt.title('Age distribution of no-shown-up patients by gender', size = 15)\n",
    "plt.xlabel('Age')\n",
    "plt.ylabel('Number of absence')"
   ]
  },
  {
   "cell_type": "markdown",
   "metadata": {},
   "source": [
    "> **Age & Gender**: We could notice that \n",
    "> - the average age of female patients who did not show up is about 36 years-old, compared with about 31 years-old for men;\n",
    "> - the majority of absent female patients are under 34 years-old, compared with 28 years-old for men."
   ]
  },
  {
   "cell_type": "markdown",
   "metadata": {},
   "source": [
    "<a id='Q6'></a>\n",
    "#### Research Question 6: does different neighbourhood impact  patients' attendances for their appoitments?"
   ]
  },
  {
   "cell_type": "markdown",
   "metadata": {},
   "source": [
    "The location where patients live could also be a factor for attendance. Maybe it depends on how far or some other reasons, such as no medical services provided in that place. Before understanding the underlaying reasons for the location, we need to understand if it is really a key factor."
   ]
  },
  {
   "cell_type": "code",
   "execution_count": 63,
   "metadata": {},
   "outputs": [
    {
     "data": {
      "text/plain": [
       "Neighbourhood        No_show\n",
       "AEROPORTO            No            7\n",
       "                     Yes           1\n",
       "ANDORINHAS           No         1740\n",
       "                     Yes         518\n",
       "ANTÔNIO HONÓRIO      No          220\n",
       "                     Yes          50\n",
       "ARIOVALDO FAVALESSA  No          220\n",
       "                     Yes          62\n",
       "BARRO VERMELHO       No          332\n",
       "                     Yes          91\n",
       "BELA VISTA           No         1523\n",
       "                     Yes         384\n",
       "BENTO FERREIRA       No          665\n",
       "                     Yes         193\n",
       "BOA VISTA            No          254\n",
       "                     Yes          58\n",
       "BONFIM               No         2221\n",
       "                     Yes         549\n",
       "CARATOÍRA            No         1974\n",
       "                     Yes         591\n",
       "CENTRO               No         2631\n",
       "                     Yes         703\n",
       "COMDUSA              No          254\n",
       "                     Yes          56\n",
       "CONQUISTA            No          688\n",
       "                     Yes         160\n",
       "CONSOLAÇÃO           No         1139\n",
       "                     Yes         236\n",
       "CRUZAMENTO           No         1094\n",
       "                     Yes         304\n",
       "                                ... \n",
       "SANTA MARTHA         No         2634\n",
       "                     Yes         496\n",
       "SANTA TEREZA         No         1060\n",
       "                     Yes         272\n",
       "SANTO ANDRÉ          No         2063\n",
       "                     Yes         508\n",
       "SANTO ANTÔNIO        No         2261\n",
       "                     Yes         482\n",
       "SANTOS DUMONT        No          907\n",
       "                     Yes         369\n",
       "SANTOS REIS          No          435\n",
       "                     Yes         112\n",
       "SEGURANÇA DO LAR     No          117\n",
       "                     Yes          28\n",
       "SOLON BORGES         No          400\n",
       "                     Yes          69\n",
       "SÃO BENEDITO         No         1152\n",
       "                     Yes         287\n",
       "SÃO CRISTÓVÃO        No         1473\n",
       "                     Yes         363\n",
       "SÃO JOSÉ             No         1548\n",
       "                     Yes         428\n",
       "SÃO PEDRO            No         1932\n",
       "                     Yes         515\n",
       "TABUAZEIRO           No         2557\n",
       "                     Yes         572\n",
       "UNIVERSITÁRIO        No          120\n",
       "                     Yes          32\n",
       "VILA RUBIM           No          710\n",
       "                     Yes         141\n",
       "Name: No_show, Length: 160, dtype: int64"
      ]
     },
     "execution_count": 63,
     "metadata": {},
     "output_type": "execute_result"
    }
   ],
   "source": [
    "# count the attendance number by different neighbourhoods\n",
    "df['No_show'].groupby(df['Neighbourhood']).value_counts()"
   ]
  },
  {
   "cell_type": "code",
   "execution_count": 64,
   "metadata": {},
   "outputs": [
    {
     "data": {
      "text/plain": [
       "Neighbourhood\n",
       "AEROPORTO                 8\n",
       "ANDORINHAS             2258\n",
       "ANTÔNIO HONÓRIO         270\n",
       "ARIOVALDO FAVALESSA     282\n",
       "BARRO VERMELHO          423\n",
       "BELA VISTA             1907\n",
       "BENTO FERREIRA          858\n",
       "BOA VISTA               312\n",
       "BONFIM                 2770\n",
       "CARATOÍRA              2565\n",
       "CENTRO                 3334\n",
       "COMDUSA                 310\n",
       "CONQUISTA               848\n",
       "CONSOLAÇÃO             1375\n",
       "CRUZAMENTO             1398\n",
       "DA PENHA               2217\n",
       "DE LOURDES              305\n",
       "DO CABRAL               560\n",
       "DO MOSCOSO              413\n",
       "DO QUADRO               848\n",
       "ENSEADA DO SUÁ          235\n",
       "ESTRELINHA              538\n",
       "FONTE GRANDE            682\n",
       "FORTE SÃO JOÃO         1889\n",
       "FRADINHOS               258\n",
       "GOIABEIRAS              700\n",
       "GRANDE VITÓRIA         1071\n",
       "GURIGICA               2018\n",
       "HORTO                   175\n",
       "ILHA DAS CAIEIRAS      1071\n",
       "                       ... \n",
       "PARQUE INDUSTRIAL         1\n",
       "PARQUE MOSCOSO          802\n",
       "PIEDADE                 452\n",
       "PONTAL DE CAMBURI        69\n",
       "PRAIA DO CANTO         1035\n",
       "PRAIA DO SUÁ           1288\n",
       "REDENÇÃO               1553\n",
       "REPÚBLICA               835\n",
       "RESISTÊNCIA            4430\n",
       "ROMÃO                  2214\n",
       "SANTA CECÍLIA           448\n",
       "SANTA CLARA             506\n",
       "SANTA HELENA            178\n",
       "SANTA LUÍZA             428\n",
       "SANTA LÚCIA             438\n",
       "SANTA MARTHA           3130\n",
       "SANTA TEREZA           1332\n",
       "SANTO ANDRÉ            2571\n",
       "SANTO ANTÔNIO          2743\n",
       "SANTOS DUMONT          1276\n",
       "SANTOS REIS             547\n",
       "SEGURANÇA DO LAR        145\n",
       "SOLON BORGES            469\n",
       "SÃO BENEDITO           1439\n",
       "SÃO CRISTÓVÃO          1836\n",
       "SÃO JOSÉ               1976\n",
       "SÃO PEDRO              2447\n",
       "TABUAZEIRO             3129\n",
       "UNIVERSITÁRIO           152\n",
       "VILA RUBIM              851\n",
       "Name: No_show, Length: 81, dtype: int64"
      ]
     },
     "execution_count": 64,
     "metadata": {},
     "output_type": "execute_result"
    }
   ],
   "source": [
    "# count the number of patients from different neighbourhoods\n",
    "df1 = df.groupby(df['Neighbourhood']).count()\n",
    "df1['No_show']"
   ]
  },
  {
   "cell_type": "code",
   "execution_count": 65,
   "metadata": {},
   "outputs": [
    {
     "data": {
      "text/plain": [
       "Neighbourhood\n",
       "AEROPORTO                 7\n",
       "ANDORINHAS             1740\n",
       "ANTÔNIO HONÓRIO         220\n",
       "ARIOVALDO FAVALESSA     220\n",
       "BARRO VERMELHO          332\n",
       "BELA VISTA             1523\n",
       "BENTO FERREIRA          665\n",
       "BOA VISTA               254\n",
       "BONFIM                 2221\n",
       "CARATOÍRA              1974\n",
       "CENTRO                 2631\n",
       "COMDUSA                 254\n",
       "CONQUISTA               688\n",
       "CONSOLAÇÃO             1139\n",
       "CRUZAMENTO             1094\n",
       "DA PENHA               1788\n",
       "DE LOURDES              258\n",
       "DO CABRAL               472\n",
       "DO MOSCOSO              321\n",
       "DO QUADRO               708\n",
       "ENSEADA DO SUÁ          183\n",
       "ESTRELINHA              432\n",
       "FONTE GRANDE            533\n",
       "FORTE SÃO JOÃO         1543\n",
       "FRADINHOS               210\n",
       "GOIABEIRAS              563\n",
       "GRANDE VITÓRIA          854\n",
       "GURIGICA               1562\n",
       "HORTO                   133\n",
       "ILHA DAS CAIEIRAS       836\n",
       "                       ... \n",
       "PARQUE INDUSTRIAL         1\n",
       "PARQUE MOSCOSO          623\n",
       "PIEDADE                 364\n",
       "PONTAL DE CAMBURI        57\n",
       "PRAIA DO CANTO          845\n",
       "PRAIA DO SUÁ            994\n",
       "REDENÇÃO               1278\n",
       "REPÚBLICA               692\n",
       "RESISTÊNCIA            3525\n",
       "ROMÃO                  1740\n",
       "SANTA CECÍLIA           325\n",
       "SANTA CLARA             372\n",
       "SANTA HELENA            141\n",
       "SANTA LUÍZA             351\n",
       "SANTA LÚCIA             352\n",
       "SANTA MARTHA           2634\n",
       "SANTA TEREZA           1060\n",
       "SANTO ANDRÉ            2063\n",
       "SANTO ANTÔNIO          2261\n",
       "SANTOS DUMONT           907\n",
       "SANTOS REIS             435\n",
       "SEGURANÇA DO LAR        117\n",
       "SOLON BORGES            400\n",
       "SÃO BENEDITO           1152\n",
       "SÃO CRISTÓVÃO          1473\n",
       "SÃO JOSÉ               1548\n",
       "SÃO PEDRO              1932\n",
       "TABUAZEIRO             2557\n",
       "UNIVERSITÁRIO           120\n",
       "VILA RUBIM              710\n",
       "Name: No_show, Length: 80, dtype: int64"
      ]
     },
     "execution_count": 65,
     "metadata": {},
     "output_type": "execute_result"
    }
   ],
   "source": [
    "# count the number of patients who have shown up from different neighbourhoods\n",
    "df2 = df_show.groupby(df['Neighbourhood']).count()\n",
    "df2['No_show']"
   ]
  },
  {
   "cell_type": "markdown",
   "metadata": {},
   "source": [
    "#### <span style=\"color:blue\">*Figure: Number of patients shown-up by Neighbourhood* </span>"
   ]
  },
  {
   "cell_type": "code",
   "execution_count": 66,
   "metadata": {},
   "outputs": [
    {
     "data": {
      "text/plain": [
       "Text(0.5,1,'Number of patients shown-up by Neighbourhood')"
      ]
     },
     "execution_count": 66,
     "metadata": {},
     "output_type": "execute_result"
    },
    {
     "data": {
      "image/png": "[encoded data removed]",
      "text/plain": [
       "<matplotlib.figure.Figure at 0x1a2be8eb00>"
      ]
     },
     "metadata": {},
     "output_type": "display_data"
    }
   ],
   "source": [
    "ax = df2.plot(kind = 'barh', figsize = (60, 100), color = 'blue');\n",
    "ax.set_ylabel('Neigbourhoods', fontsize=50)\n",
    "ax.set_xlabel('Number of patients', fontsize=50)\n",
    "ax.set_title('Number of patients shown-up by Neighbourhood',fontsize=80)"
   ]
  },
  {
   "cell_type": "code",
   "execution_count": 67,
   "metadata": {
    "scrolled": true
   },
   "outputs": [
    {
     "name": "stdout",
     "output_type": "stream",
     "text": [
      "Neighbourhood\n",
      "AEROPORTO              0.875000\n",
      "ANDORINHAS             0.770593\n",
      "ANTÔNIO HONÓRIO        0.814815\n",
      "ARIOVALDO FAVALESSA    0.780142\n",
      "BARRO VERMELHO         0.784870\n",
      "BELA VISTA             0.798637\n",
      "BENTO FERREIRA         0.775058\n",
      "BOA VISTA              0.814103\n",
      "BONFIM                 0.801805\n",
      "CARATOÍRA              0.769591\n",
      "CENTRO                 0.789142\n",
      "COMDUSA                0.819355\n",
      "CONQUISTA              0.811321\n",
      "CONSOLAÇÃO             0.828364\n",
      "CRUZAMENTO             0.782546\n",
      "DA PENHA               0.806495\n",
      "DE LOURDES             0.845902\n",
      "DO CABRAL              0.842857\n",
      "DO MOSCOSO             0.777240\n",
      "DO QUADRO              0.834906\n",
      "ENSEADA DO SUÁ         0.778723\n",
      "ESTRELINHA             0.802974\n",
      "FONTE GRANDE           0.781525\n",
      "FORTE SÃO JOÃO         0.816834\n",
      "FRADINHOS              0.813953\n",
      "GOIABEIRAS             0.804286\n",
      "GRANDE VITÓRIA         0.797386\n",
      "GURIGICA               0.774034\n",
      "HORTO                  0.760000\n",
      "ILHA DAS CAIEIRAS      0.780579\n",
      "                         ...   \n",
      "PARQUE INDUSTRIAL      1.000000\n",
      "PARQUE MOSCOSO         0.776808\n",
      "PIEDADE                0.805310\n",
      "PONTAL DE CAMBURI      0.826087\n",
      "PRAIA DO CANTO         0.816425\n",
      "PRAIA DO SUÁ           0.771739\n",
      "REDENÇÃO               0.822923\n",
      "REPÚBLICA              0.828743\n",
      "RESISTÊNCIA            0.795711\n",
      "ROMÃO                  0.785908\n",
      "SANTA CECÍLIA          0.725446\n",
      "SANTA CLARA            0.735178\n",
      "SANTA HELENA           0.792135\n",
      "SANTA LUÍZA            0.820093\n",
      "SANTA LÚCIA            0.803653\n",
      "SANTA MARTHA           0.841534\n",
      "SANTA TEREZA           0.795796\n",
      "SANTO ANDRÉ            0.802412\n",
      "SANTO ANTÔNIO          0.824280\n",
      "SANTOS DUMONT          0.710815\n",
      "SANTOS REIS            0.795247\n",
      "SEGURANÇA DO LAR       0.806897\n",
      "SOLON BORGES           0.852878\n",
      "SÃO BENEDITO           0.800556\n",
      "SÃO CRISTÓVÃO          0.802288\n",
      "SÃO JOSÉ               0.783401\n",
      "SÃO PEDRO              0.789538\n",
      "TABUAZEIRO             0.817194\n",
      "UNIVERSITÁRIO          0.789474\n",
      "VILA RUBIM             0.834313\n",
      "Name: No_show, Length: 81, dtype: float64\n"
     ]
    }
   ],
   "source": [
    "# calculate the percentage of shown-up patients in each neighborhood\n",
    "df_p = df2['No_show'] / df1['No_show']\n",
    "print(df_p)"
   ]
  },
  {
   "cell_type": "code",
   "execution_count": 68,
   "metadata": {},
   "outputs": [
    {
     "data": {
      "text/plain": [
       "0.8045171432767505"
      ]
     },
     "execution_count": 68,
     "metadata": {},
     "output_type": "execute_result"
    }
   ],
   "source": [
    "# calculate the average of attendance percentage for all the neigborhoods\n",
    "df_p.mean()"
   ]
  },
  {
   "cell_type": "markdown",
   "metadata": {},
   "source": [
    "#### <span style=\"color:blue\">*Figure: Percentage of patients shown-up by neighbourhoods* </span>"
   ]
  },
  {
   "cell_type": "code",
   "execution_count": 69,
   "metadata": {},
   "outputs": [
    {
     "data": {
      "image/png": "[encoded data removed]",
      "text/plain": [
       "<matplotlib.figure.Figure at 0x1a1ba3aa90>"
      ]
     },
     "metadata": {},
     "output_type": "display_data"
    }
   ],
   "source": [
    "plt.plot(df_p)\n",
    "#plt.plot(figsize = (100, 100))\n",
    "plt.xlabel('Neighbourhood')\n",
    "plt.ylabel('Percentage of patients shown-up')\n",
    "plt.title('Percentage of patients shown-up by neighbourhoods')\n",
    "plt.show()"
   ]
  },
  {
   "cell_type": "markdown",
   "metadata": {},
   "source": [
    "> This graph shows the percentage of the patients shown-up by different neigbourhoods. We could noticed that:\n",
    "> - on average, around 20% of patients have not shown up for the medical appointment, which corresponds to the first general investigation that we found (20.19% no-shown-up patients).\n",
    "> - all the neigbourhoods have an attendance rate above 70%."
   ]
  },
  {
   "cell_type": "markdown",
   "metadata": {},
   "source": [
    "<a id='Q7'></a>\n",
    "#### Research Question 7: will received sms affect the patients' attendances of their appoitments?"
   ]
  },
  {
   "cell_type": "markdown",
   "metadata": {},
   "source": [
    "Along with the essort of technology, lots of organisations like using SMS notification to reminder their patients appointments.\n",
    "However, is it really an efficace method for this public hospital in Brazil? Let's investigate more..."
   ]
  },
  {
   "cell_type": "code",
   "execution_count": 70,
   "metadata": {},
   "outputs": [
    {
     "data": {
      "text/plain": [
       "SMS_received  No_show\n",
       "0             No         62499\n",
       "              Yes        12526\n",
       "1             No         25694\n",
       "              Yes         9784\n",
       "Name: No_show, dtype: int64"
      ]
     },
     "execution_count": 70,
     "metadata": {},
     "output_type": "execute_result"
    }
   ],
   "source": [
    "# count the number of patients shown or non-shown by having received an SMS notification or not\n",
    "df_sms = df['No_show'].groupby(df['SMS_received']).value_counts()\n",
    "df_sms"
   ]
  },
  {
   "cell_type": "code",
   "execution_count": 71,
   "metadata": {},
   "outputs": [
    {
     "data": {
      "text/plain": [
       "88193"
      ]
     },
     "execution_count": 71,
     "metadata": {},
     "output_type": "execute_result"
    }
   ],
   "source": [
    "# calculate the number of patients who have shown up\n",
    "df_show['No_show'].count()"
   ]
  },
  {
   "cell_type": "code",
   "execution_count": 72,
   "metadata": {},
   "outputs": [
    {
     "data": {
      "text/plain": [
       "62499"
      ]
     },
     "execution_count": 72,
     "metadata": {},
     "output_type": "execute_result"
    }
   ],
   "source": [
    "# count the number of patients who have shown up recived an SMS\n",
    "df_show_sms = df_show[(df_show.SMS_received == 0)]\n",
    "df_show_sms['No_show'].count()"
   ]
  },
  {
   "cell_type": "code",
   "execution_count": 73,
   "metadata": {},
   "outputs": [
    {
     "data": {
      "text/plain": [
       "0.7086616851677571"
      ]
     },
     "execution_count": 73,
     "metadata": {},
     "output_type": "execute_result"
    }
   ],
   "source": [
    "# calculate the percentage of patients showed up with a recieved SMS\n",
    "sms_shown = percentage(df_show_sms['No_show'].count(), df_show['No_show'].count())\n",
    "sms_shown"
   ]
  },
  {
   "cell_type": "code",
   "execution_count": 74,
   "metadata": {},
   "outputs": [
    {
     "data": {
      "text/plain": [
       "22310"
      ]
     },
     "execution_count": 74,
     "metadata": {},
     "output_type": "execute_result"
    }
   ],
   "source": [
    "# count the number of the patients who have not shown up\n",
    "df_nshow['No_show'].count()"
   ]
  },
  {
   "cell_type": "code",
   "execution_count": 75,
   "metadata": {},
   "outputs": [
    {
     "data": {
      "text/plain": [
       "12526"
      ]
     },
     "execution_count": 75,
     "metadata": {},
     "output_type": "execute_result"
    }
   ],
   "source": [
    "# count the number of patients who have not shown , but recived an SMS\n",
    "df_nshow_sms = df_nshow[(df_nshow.SMS_received == 0)]\n",
    "df_nshow_sms['No_show'].count()"
   ]
  },
  {
   "cell_type": "code",
   "execution_count": 76,
   "metadata": {},
   "outputs": [
    {
     "data": {
      "text/plain": [
       "0.5614522635589422"
      ]
     },
     "execution_count": 76,
     "metadata": {},
     "output_type": "execute_result"
    }
   ],
   "source": [
    "# calculate the percentage of patients did not show up, but with a recieved SMS\n",
    "sms_nshown = percentage(df_nshow_sms['No_show'].count(), df_nshow['No_show'].count())\n",
    "sms_nshown"
   ]
  },
  {
   "cell_type": "markdown",
   "metadata": {},
   "source": [
    "#### <span style=\"color:blue\">*Figure: Percentage by presence with a received SMS or not* </span>"
   ]
  },
  {
   "cell_type": "code",
   "execution_count": 77,
   "metadata": {},
   "outputs": [
    {
     "data": {
      "image/png": "[encoded data removed]",
      "text/plain": [
       "<matplotlib.figure.Figure at 0x1a2d6c9780>"
      ]
     },
     "metadata": {},
     "output_type": "display_data"
    }
   ],
   "source": [
    "sms = (round(sms_shown*100,2), round(sms_nshown*100,2))\n",
    "nsms = (round((1-sms_shown)*100,2), round((1-sms_nshown)*100,2))\n",
    "ind = np.arange(len(m))\n",
    "width = 0.25\n",
    "\n",
    "fig,ax = plt.subplots()\n",
    "rects1 = ax.bar(ind - width/2, sms, width,\n",
    "                color='SkyBlue', label='SMS')\n",
    "rects2 = ax.bar(ind + width/2, nsms, width,\n",
    "                color='IndianRed', label='No SMS')\n",
    "\n",
    "ax.set_ylabel('Percentage')\n",
    "ax.set_title('Percentage by presence with a received SMS or not', fontsize = 14)\n",
    "ax.set_xticks(ind)\n",
    "ax.set_xticklabels(('Shown', 'No_shown'))\n",
    "ax.legend()\n",
    "\n",
    "def autolabel(rects, xpos='center'):\n",
    "\n",
    "    xpos = xpos.lower()  # normalize the case of the parameter\n",
    "    ha = {'center': 'center', 'right': 'left', 'left': 'right'}\n",
    "    offset = {'center': 0.5, 'right': 0.57, 'left': 0.43}  # x_txt = x + w*off\n",
    "\n",
    "    for rect in rects:\n",
    "        height = rect.get_height()\n",
    "        ax.text(rect.get_x() + rect.get_width()*offset[xpos], 1.01*height,\n",
    "                '{}'.format(height), ha=ha[xpos], va='bottom')\n",
    "\n",
    "autolabel(rects1, \"left\")\n",
    "autolabel(rects2, \"right\")\n",
    "plt.show()"
   ]
  },
  {
   "cell_type": "markdown",
   "metadata": {},
   "source": [
    "> **SMS**: Sending an SMS could be a method to promote patients' atendances. From the chart above, we observe that the probability of attendance for patient having received an SMS is about 70.87%, compared with 56.16% for those who did not received an SMS notification."
   ]
  },
  {
   "cell_type": "markdown",
   "metadata": {},
   "source": [
    "### During following two questions, we are going to analyse if being hadicapped, hypertensive, diabetic, alcoholic and being covered by welfare are elements important for patients' attendance."
   ]
  },
  {
   "cell_type": "markdown",
   "metadata": {},
   "source": [
    "<a id='Q8'></a>\n",
    "#### Research Question 8: is being handicapped a major factor affecting patients' attendances for their appoitments?"
   ]
  },
  {
   "cell_type": "code",
   "execution_count": 78,
   "metadata": {},
   "outputs": [
    {
     "data": {
      "text/plain": [
       "Handicap  No_show\n",
       "0         No         86362\n",
       "          Yes        21908\n",
       "1         No          1831\n",
       "          Yes          402\n",
       "Name: No_show, dtype: int64"
      ]
     },
     "execution_count": 78,
     "metadata": {},
     "output_type": "execute_result"
    }
   ],
   "source": [
    "# count the number of patients shown or non-shown by being handicapped or not\n",
    "df['No_show'].groupby(df['Handicap']).value_counts()"
   ]
  },
  {
   "cell_type": "code",
   "execution_count": 79,
   "metadata": {},
   "outputs": [
    {
     "data": {
      "text/plain": [
       "86362"
      ]
     },
     "execution_count": 79,
     "metadata": {},
     "output_type": "execute_result"
    }
   ],
   "source": [
    "# count the number of normal patients who have shown up\n",
    "df_show_nh = df_show[(df_show.Handicap == 0)]\n",
    "df_show_nh['No_show'].count()"
   ]
  },
  {
   "cell_type": "code",
   "execution_count": 80,
   "metadata": {},
   "outputs": [
    {
     "data": {
      "text/plain": [
       "0.9792387150907669"
      ]
     },
     "execution_count": 80,
     "metadata": {},
     "output_type": "execute_result"
    }
   ],
   "source": [
    "# calculate the percentage of normal patients who have shown up\n",
    "nh_shown = percentage(df_show_nh['No_show'].count(), df_show['No_show'].count())\n",
    "nh_shown"
   ]
  },
  {
   "cell_type": "code",
   "execution_count": 81,
   "metadata": {},
   "outputs": [
    {
     "data": {
      "text/plain": [
       "21908"
      ]
     },
     "execution_count": 81,
     "metadata": {},
     "output_type": "execute_result"
    }
   ],
   "source": [
    "# count the number of normal patients who have not shown up\n",
    "df_nshow_nh = df_nshow[(df_nshow.Handicap == 0)]\n",
    "df_nshow_nh['No_show'].count()"
   ]
  },
  {
   "cell_type": "code",
   "execution_count": 82,
   "metadata": {},
   "outputs": [
    {
     "data": {
      "text/plain": [
       "0.981981174361273"
      ]
     },
     "execution_count": 82,
     "metadata": {},
     "output_type": "execute_result"
    }
   ],
   "source": [
    "# calculate the percentage of handicapped patients who have shown up\n",
    "nh_nshown = percentage(df_nshow_nh['No_show'].count(), df_nshow['No_show'].count())\n",
    "nh_nshown"
   ]
  },
  {
   "cell_type": "markdown",
   "metadata": {},
   "source": [
    "> The two percentages of normal patients shown-up or not are really approximate. Therefore, being handicapped would not be a factor impacting the attendance."
   ]
  },
  {
   "cell_type": "markdown",
   "metadata": {},
   "source": [
    "<a id='Q9'></a>\n",
    "#### Research Question 9: other factor may affect patients' attendances"
   ]
  },
  {
   "cell_type": "code",
   "execution_count": 83,
   "metadata": {},
   "outputs": [],
   "source": [
    "# creat a new dataframe only with the columns in need for investigation in order to increase the performance\n",
    "df_new = pd.concat([df.Scholarship, df.Hypertension, df.Diabetes, df.Alcoholism, df.No_show], axis = 1)"
   ]
  },
  {
   "cell_type": "code",
   "execution_count": 84,
   "metadata": {},
   "outputs": [
    {
     "data": {
      "image/png": "[encoded data removed]",
      "text/plain": [
       "<matplotlib.figure.Figure at 0x1183c84e0>"
      ]
     },
     "metadata": {},
     "output_type": "display_data"
    }
   ],
   "source": [
    "# extract the shown-up patients' data \n",
    "df_new_show = df_new[df_new.No_show == 'No']\n",
    "df_new_show.hist(figsize = (7, 7));"
   ]
  },
  {
   "cell_type": "code",
   "execution_count": 85,
   "metadata": {},
   "outputs": [
    {
     "data": {
      "image/png": "[encoded data removed]",
      "text/plain": [
       "<matplotlib.figure.Figure at 0x1a3b41d7b8>"
      ]
     },
     "metadata": {},
     "output_type": "display_data"
    }
   ],
   "source": [
    "# extract the no-shown-up patients' data \n",
    "df_new_nshow = df_new[df_new.No_show == 'Yes']\n",
    "df_new_nshow.hist(figsize = (7, 7));"
   ]
  },
  {
   "cell_type": "markdown",
   "metadata": {},
   "source": [
    "> From the graphs above, we can see that more patients suffer hypertension than diabetes and alcoholism. "
   ]
  },
  {
   "cell_type": "markdown",
   "metadata": {},
   "source": [
    "<a id='sch'></a>\n",
    "- **Scholarship**"
   ]
  },
  {
   "cell_type": "code",
   "execution_count": 86,
   "metadata": {
    "scrolled": true
   },
   "outputs": [
    {
     "data": {
      "text/plain": [
       "Scholarship  No_show\n",
       "0            No         79910\n",
       "             Yes        19732\n",
       "1            No          8283\n",
       "             Yes         2578\n",
       "Name: No_show, dtype: int64"
      ]
     },
     "execution_count": 86,
     "metadata": {},
     "output_type": "execute_result"
    }
   ],
   "source": [
    "# count the numbers of patients shown or non-shown by being covered by welfare or not\n",
    "df['No_show'].groupby([df.Scholarship]).value_counts()"
   ]
  },
  {
   "cell_type": "code",
   "execution_count": 87,
   "metadata": {},
   "outputs": [
    {
     "data": {
      "text/plain": [
       "10861"
      ]
     },
     "execution_count": 87,
     "metadata": {},
     "output_type": "execute_result"
    }
   ],
   "source": [
    "# total number of patient with scholarship\n",
    "df_sch = df[df.Scholarship == 1]\n",
    "df_sch['No_show'].count()"
   ]
  },
  {
   "cell_type": "code",
   "execution_count": 88,
   "metadata": {},
   "outputs": [
    {
     "data": {
      "text/plain": [
       "99642"
      ]
     },
     "execution_count": 88,
     "metadata": {},
     "output_type": "execute_result"
    }
   ],
   "source": [
    "# total number of patient without scholarship\n",
    "df_nsch = df[df.Scholarship == 0]\n",
    "df_nsch['No_show'].count()"
   ]
  },
  {
   "cell_type": "code",
   "execution_count": 89,
   "metadata": {},
   "outputs": [
    {
     "data": {
      "text/plain": [
       "0.2373630420771568"
      ]
     },
     "execution_count": 89,
     "metadata": {},
     "output_type": "execute_result"
    }
   ],
   "source": [
    "# count the percentage of patients with scholarship who have not shown up\n",
    "df_sch_nshow = df_sch[df_sch.No_show == 'Yes']\n",
    "df_sch_nshow['No_show'].count()\n",
    "sch_nshown = percentage(df_sch_nshow['No_show'].count(), df_sch['No_show'].count())\n",
    "sch_nshown"
   ]
  },
  {
   "cell_type": "code",
   "execution_count": 90,
   "metadata": {},
   "outputs": [
    {
     "data": {
      "text/plain": [
       "0.19802894361815299"
      ]
     },
     "execution_count": 90,
     "metadata": {},
     "output_type": "execute_result"
    }
   ],
   "source": [
    "# count the percentage of patients without scholarship who have not shown up\n",
    "df_nsch_nshow = df_nsch[df_nsch.No_show == 'Yes']\n",
    "df_nsch_nshow['No_show'].count()\n",
    "nsch_nshown = percentage(df_nsch_nshow['No_show'].count(), df_nsch['No_show'].count())\n",
    "nsch_nshown"
   ]
  },
  {
   "cell_type": "markdown",
   "metadata": {},
   "source": [
    ">It seems that patients being covered by Bolsa Família, a social welfare program in Brazil, were less likely to attend their appointments than those who without welfare. \n",
    "The difference of attendance percentage is about 4%."
   ]
  },
  {
   "cell_type": "markdown",
   "metadata": {},
   "source": [
    "<a id='hy'></a>\n",
    "- **Hypertension**"
   ]
  },
  {
   "cell_type": "code",
   "execution_count": 91,
   "metadata": {
    "scrolled": true
   },
   "outputs": [
    {
     "data": {
      "text/plain": [
       "Hypertension  No_show\n",
       "0             No         70171\n",
       "              Yes        18539\n",
       "1             No         18022\n",
       "              Yes         3771\n",
       "Name: No_show, dtype: int64"
      ]
     },
     "execution_count": 91,
     "metadata": {},
     "output_type": "execute_result"
    }
   ],
   "source": [
    "# count the numbers of patients shown or non-shown by with hypertension or not\n",
    "df['No_show'].groupby([df.Hypertension]).value_counts()"
   ]
  },
  {
   "cell_type": "code",
   "execution_count": 92,
   "metadata": {},
   "outputs": [
    {
     "data": {
      "text/plain": [
       "21793"
      ]
     },
     "execution_count": 92,
     "metadata": {},
     "output_type": "execute_result"
    }
   ],
   "source": [
    "# Total number of patient with hypertension\n",
    "df_hy = df[df.Hypertension == 1]\n",
    "df_hy['No_show'].count()"
   ]
  },
  {
   "cell_type": "code",
   "execution_count": 93,
   "metadata": {},
   "outputs": [
    {
     "data": {
      "text/plain": [
       "88710"
      ]
     },
     "execution_count": 93,
     "metadata": {},
     "output_type": "execute_result"
    }
   ],
   "source": [
    "# Total number of patient without hypertension\n",
    "df_nhy = df[df.Hypertension == 0]\n",
    "df_nhy['No_show'].count()"
   ]
  },
  {
   "cell_type": "code",
   "execution_count": 94,
   "metadata": {},
   "outputs": [
    {
     "data": {
      "text/plain": [
       "0.17303721378424264"
      ]
     },
     "execution_count": 94,
     "metadata": {},
     "output_type": "execute_result"
    }
   ],
   "source": [
    "# Count the percentage of patients with hypertension who have not shown up\n",
    "df_hy_nshow = df_hy[df_hy.No_show == 'Yes']\n",
    "df_hy_nshow['No_show'].count()\n",
    "hy_nshown = percentage(df_hy_nshow['No_show'].count(), df_hy['No_show'].count())\n",
    "hy_nshown"
   ]
  },
  {
   "cell_type": "code",
   "execution_count": 95,
   "metadata": {},
   "outputs": [
    {
     "data": {
      "text/plain": [
       "0.20898433096606922"
      ]
     },
     "execution_count": 95,
     "metadata": {},
     "output_type": "execute_result"
    }
   ],
   "source": [
    "# Count the percentage of patients without hypertension who have not shown up\n",
    "df_nhy_nshow = df_nhy[df_nhy.No_show == 'Yes']\n",
    "df_nhy_nshow['No_show'].count()\n",
    "nhy_nshown = percentage(df_nhy_nshow['No_show'].count(), df_nhy['No_show'].count())\n",
    "nhy_nshown"
   ]
  },
  {
   "cell_type": "markdown",
   "metadata": {},
   "source": [
    ">The absence of appointments for patients without hypertension is about 3.5% higer than those who with hypertension."
   ]
  },
  {
   "cell_type": "markdown",
   "metadata": {},
   "source": [
    "<a id='d'></a>\n",
    "- **Diabetes**"
   ]
  },
  {
   "cell_type": "code",
   "execution_count": 96,
   "metadata": {
    "scrolled": true
   },
   "outputs": [
    {
     "data": {
      "text/plain": [
       "Diabetes  No_show\n",
       "0         No         81683\n",
       "          Yes        20880\n",
       "1         No          6510\n",
       "          Yes         1430\n",
       "Name: No_show, dtype: int64"
      ]
     },
     "execution_count": 96,
     "metadata": {},
     "output_type": "execute_result"
    }
   ],
   "source": [
    "# count the numbers of patients shown or non-shown by with diabetes or not\n",
    "df['No_show'].groupby([df.Diabetes]).value_counts()"
   ]
  },
  {
   "cell_type": "code",
   "execution_count": 97,
   "metadata": {},
   "outputs": [
    {
     "data": {
      "text/plain": [
       "7940"
      ]
     },
     "execution_count": 97,
     "metadata": {},
     "output_type": "execute_result"
    }
   ],
   "source": [
    "# Total number of patient with diabetes\n",
    "df_d = df[df.Diabetes == 1]\n",
    "df_d['No_show'].count()"
   ]
  },
  {
   "cell_type": "code",
   "execution_count": 98,
   "metadata": {},
   "outputs": [
    {
     "data": {
      "text/plain": [
       "99642"
      ]
     },
     "execution_count": 98,
     "metadata": {},
     "output_type": "execute_result"
    }
   ],
   "source": [
    "# Total number of patient without ciabetes\n",
    "df_nd = df[df.Scholarship == 0]\n",
    "df_nd['No_show'].count()"
   ]
  },
  {
   "cell_type": "code",
   "execution_count": 99,
   "metadata": {},
   "outputs": [
    {
     "data": {
      "text/plain": [
       "0.1801007556675063"
      ]
     },
     "execution_count": 99,
     "metadata": {},
     "output_type": "execute_result"
    }
   ],
   "source": [
    "# Count the percentage of patients with diabetes who have not shown up\n",
    "df_d_nshow = df_d[df_d.No_show == 'Yes']\n",
    "df_d_nshow['No_show'].count()\n",
    "d_nshown = percentage(df_d_nshow['No_show'].count(), df_d['No_show'].count())\n",
    "d_nshown"
   ]
  },
  {
   "cell_type": "code",
   "execution_count": 100,
   "metadata": {},
   "outputs": [
    {
     "data": {
      "text/plain": [
       "0.19802894361815299"
      ]
     },
     "execution_count": 100,
     "metadata": {},
     "output_type": "execute_result"
    }
   ],
   "source": [
    "# Count the percentage of patients without diabetes who have not shown up\n",
    "df_nd_nshow = df_nd[df_nd.No_show == 'Yes']\n",
    "df_nd_nshow['No_show'].count()\n",
    "nd_nshown = percentage(df_nd_nshow['No_show'].count(), df_nd['No_show'].count())\n",
    "nd_nshown"
   ]
  },
  {
   "cell_type": "markdown",
   "metadata": {},
   "source": [
    ">The absence of appointments for patients without diabetes is around 2% higer than those who with this maladie."
   ]
  },
  {
   "cell_type": "markdown",
   "metadata": {},
   "source": [
    "<a id='al'></a>\n",
    "- **Alcoholism**"
   ]
  },
  {
   "cell_type": "code",
   "execution_count": 101,
   "metadata": {
    "scrolled": true
   },
   "outputs": [
    {
     "data": {
      "text/plain": [
       "Alcoholism  No_show\n",
       "0           No         85510\n",
       "            Yes        21633\n",
       "1           No          2683\n",
       "            Yes          677\n",
       "Name: No_show, dtype: int64"
      ]
     },
     "execution_count": 101,
     "metadata": {},
     "output_type": "execute_result"
    }
   ],
   "source": [
    "# count the numbers of patients shown or non-shown by with alcoholism or not\n",
    "df['No_show'].groupby([df.Alcoholism]).value_counts()"
   ]
  },
  {
   "cell_type": "code",
   "execution_count": 102,
   "metadata": {},
   "outputs": [
    {
     "data": {
      "text/plain": [
       "3360"
      ]
     },
     "execution_count": 102,
     "metadata": {},
     "output_type": "execute_result"
    }
   ],
   "source": [
    "# Total number of patient with alcoholism\n",
    "df_al = df[df.Alcoholism == 1]\n",
    "df_al['No_show'].count()"
   ]
  },
  {
   "cell_type": "code",
   "execution_count": 103,
   "metadata": {},
   "outputs": [
    {
     "data": {
      "text/plain": [
       "107143"
      ]
     },
     "execution_count": 103,
     "metadata": {},
     "output_type": "execute_result"
    }
   ],
   "source": [
    "# Total number of patient without alcoholism\n",
    "df_nal = df[df.Alcoholism == 0]\n",
    "df_nal['No_show'].count()"
   ]
  },
  {
   "cell_type": "code",
   "execution_count": 104,
   "metadata": {},
   "outputs": [
    {
     "data": {
      "text/plain": [
       "0.20148809523809524"
      ]
     },
     "execution_count": 104,
     "metadata": {},
     "output_type": "execute_result"
    }
   ],
   "source": [
    "# Count the percentage of patients with alcoholism who have not shown up\n",
    "df_al_nshow = df_al[df_al.No_show == 'Yes']\n",
    "df_al_nshow['No_show'].count()\n",
    "al_nshown = percentage(df_al_nshow['No_show'].count(), df_al['No_show'].count())\n",
    "al_nshown"
   ]
  },
  {
   "cell_type": "code",
   "execution_count": 105,
   "metadata": {},
   "outputs": [
    {
     "data": {
      "text/plain": [
       "0.2019077307896923"
      ]
     },
     "execution_count": 105,
     "metadata": {},
     "output_type": "execute_result"
    }
   ],
   "source": [
    "# Count the percentage of patients without alcoholism who have not shown up\n",
    "df_nal_nshow = df_nal[df_nal.No_show == 'Yes']\n",
    "df_nal_nshow['No_show'].count()\n",
    "nal_nshown = percentage(df_nal_nshow['No_show'].count(), df_nal['No_show'].count())\n",
    "nal_nshown"
   ]
  },
  {
   "cell_type": "markdown",
   "metadata": {},
   "source": [
    ">It seems that having alcoholism maladie is not a factor affecting patients' attendance for their medical appointments."
   ]
  },
  {
   "cell_type": "markdown",
   "metadata": {},
   "source": [
    "#### <span style=\"color:blue\">*Figure: No-attendance percentage by other different characters* </span>"
   ]
  },
  {
   "cell_type": "code",
   "execution_count": 106,
   "metadata": {},
   "outputs": [
    {
     "data": {
      "image/png": "[encoded data removed]",
      "text/plain": [
       "<matplotlib.figure.Figure at 0x1a3b6ca128>"
      ]
     },
     "metadata": {},
     "output_type": "display_data"
    }
   ],
   "source": [
    "with_noshow = (round(sch_nshown*100,2), round(hy_nshown*100,2),round(d_nshown*100,2), round(al_nshown*100,2))\n",
    "without_noshow = (round(nsch_nshown*100,2), round(nhy_nshown*100,2), round(nd_nshown*100,2), round(nal_nshown*100,2))\n",
    "\n",
    "ind = np.arange(len(with_noshow))\n",
    "width = 0.25\n",
    "\n",
    "fig,ax = plt.subplots()\n",
    "rects1 = ax.bar(ind - width/2, with_noshow, width,\n",
    "                color='SkyBlue', label='with')\n",
    "rects2 = ax.bar(ind + width/2, without_noshow, width,\n",
    "                color='IndianRed', label='without')\n",
    "\n",
    "ax.set_ylabel('No-attendance percentage')\n",
    "ax.set_title('No-attendance percentage by other different characters ', fontsize = 14)\n",
    "ax.set_xticks(ind)\n",
    "ax.set_xticklabels(('Scholarship', 'Hypertension', 'Diabetes', 'Alcoholism'))\n",
    "ax.legend()\n",
    "\n",
    "def autolabel(rects, xpos='center'):\n",
    "\n",
    "    xpos = xpos.lower()  # normalize the case of the parameter\n",
    "    ha = {'center': 'center', 'right': 'left', 'left': 'right'}\n",
    "    offset = {'center': 0.5, 'right': 0.55, 'left': 0.45}  # x_txt = x + w*off\n",
    "\n",
    "    for rect in rects:\n",
    "        height = rect.get_height()\n",
    "        ax.text(rect.get_x() + rect.get_width()*offset[xpos], 1.01*height,\n",
    "                '{}'.format(height), ha=ha[xpos], va='bottom')\n",
    "\n",
    "autolabel(rects1, \"left\")\n",
    "autolabel(rects2, \"right\")\n",
    "plt.show()"
   ]
  },
  {
   "cell_type": "markdown",
   "metadata": {},
   "source": [
    "<a id='conclusions'></a>\n",
    "## Conclusions\n",
    "\n",
    "In this public hospital in Brazil, there are 20.19% of patients who have not shown up during their scheduled meical appointments.\n",
    "\n",
    "The factors following would **affect** the attendance:\n",
    "> - ***Age***: The probability of attendances for people younger than 37 years-old (Yonng and Junior) is less than older people (Senior and Old). The attendanced percentage for Young, Junior, Senior and Old are as below: 78%, 76.5%, 80.5% and 84%.\n",
    "> - ***Duration between scheduled day and appointment day***: Longer duration between scheduled day and appointment day, more patients will absent from the appointments: the attendance for duration between 5-15 days and of over 15 daysonly are only 71.5% and 67.3% of  respectively, compared with 95.3% for the same day and 77% for the duration between 2-4 days. Nearly 25% appointments are made for 15 days after. This should be a point to be considered to ameliorate.\n",
    "> - ***Neighbourhood***: The location of the neighbourhood will affect 20% of patients to decide whether they show up their medical appointments.\n",
    "> - ***SMS notificaiton***: SMS could be a useful way to remind patients for their appointments, which could increase 16.6% of chance for the attendance.\n",
    "> - ***Scholarship***: The attendace of patients covered by Bolsa Família is 4% less than those who without welfare.\n",
    "> - ***Hypertension***: The absence of appointments for patients without hypertension is about 3.6% higer than those who with hypertension.\n",
    "> - ***Diabetes***: The absence of appointments for patients without diabetes is nearly 1.7% higer than those who with this maladie.\n",
    "\n",
    "\n",
    "Other factors, such as ***weekday, patient's gender, being handicapped or not, being alcoholist or not *** would **not impact** the attendance. \n",
    "However, along with the investigation, we also notice that:\n",
    "> - A bit more appointments are made on Tuesday and Wednesday than other business days, but very few on Saturday and no appointment on Sunday.\n",
    "> - Around 35% appointment days are the same day as the scheduled days.\n",
    "> - Compared with man, more woman tend to see doctor.\n",
    "> - Even the non-shown-up percentage is almost equal between female and male patients, non-shown-up female are generally 5-6 years older than male.\n",
    "> - Patients having hypertention maladie are more than those who having diabetes and alcoholism."
   ]
  },
  {
   "cell_type": "markdown",
   "metadata": {},
   "source": [
    "In conclusion, the neighbourhood and the SMS notification are two factors the most important impacting patients' attendance. Some other factors may also have more or less influence, such as age, length of duration between scheduled and appointment day, being covered by welfare or not, with maladie of hypertension and diabetes or not.\n",
    "\n",
    "Several facotrs could not be ameliorated, like patients' ages or if they are hypertensive or diabetic. However, we still could find **two suggestions** to improve the attendance:\n",
    "\n",
    "- **sending the SMS notification** to every patient who made appointment;\n",
    "- trying to **made the appointment as quick as possible**, limit to less than 15 days."
   ]
  },
  {
   "cell_type": "markdown",
   "metadata": {},
   "source": [
    "Though the investigation carried out in this study is exploratory and could provide insights for future, we should notice that the above obervations are only applied to the nominated hospital in Brazil. Also, some **limitations** of this study are as following:\n",
    "- 110503 appointments for 62286 patients as sample is investigated. We do not know the number of the population. Therefore,  ***all statistics done are only descriptive***, they should not be interpreted as a predictive model;\n",
    "- 95% of analysis are merely looked at the relationship between attendance and one factor. ***The interrelationship between different features are not (sufficiently) investigated***.\n"
   ]
  }
 ],
 "metadata": {
  "kernelspec": {
   "display_name": "Python [default]",
   "language": "python",
   "name": "python3"
  },
  "language_info": {
   "codemirror_mode": {
    "name": "ipython",
    "version": 3
   },
   "file_extension": ".py",
   "mimetype": "text/x-python",
   "name": "python",
   "nbconvert_exporter": "python",
   "pygments_lexer": "ipython3",
   "version": "3.6.4"
  }
 },
 "nbformat": 4,
 "nbformat_minor": 2
}
